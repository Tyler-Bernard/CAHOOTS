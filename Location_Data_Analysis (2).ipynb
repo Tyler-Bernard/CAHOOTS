{
 "cells": [
  {
   "cell_type": "code",
   "execution_count": 1,
   "id": "97d40678-7c80-4a77-91e9-176befa3e29c",
   "metadata": {},
   "outputs": [],
   "source": [
    "import pandas as pd\n",
    "import numpy as np\n",
    "import seaborn as sns\n",
    "import matplotlib.pyplot as plt\n",
    "import datetime\n",
    "from scipy import stats\n",
    "from scipy.stats import shapiro, probplot\n",
    "from sklearn.utils import resample\n",
    "from scipy.stats import spearmanr\n",
    "from matplotlib.colors import LinearSegmentedColormap"
   ]
  },
  {
   "cell_type": "markdown",
   "id": "e38f6830-5bfc-4a9a-82a3-e82d74907dfd",
   "metadata": {},
   "source": [
    "Load Data"
   ]
  },
  {
   "cell_type": "code",
   "execution_count": 2,
   "id": "e6f23d3d-0b77-4895-a9be-7401fcd7d3eb",
   "metadata": {},
   "outputs": [
    {
     "ename": "FileNotFoundError",
     "evalue": "[Errno 2] No such file or directory: 'output.csv'",
     "output_type": "error",
     "traceback": [
      "\u001b[1;31m---------------------------------------------------------------------------\u001b[0m",
      "\u001b[1;31mFileNotFoundError\u001b[0m                         Traceback (most recent call last)",
      "Cell \u001b[1;32mIn[2], line 2\u001b[0m\n\u001b[0;32m      1\u001b[0m \u001b[38;5;66;03m#df = pd.read_csv(\"call_data_from_CAD.csv\")\u001b[39;00m\n\u001b[1;32m----> 2\u001b[0m df \u001b[38;5;241m=\u001b[39m \u001b[43mpd\u001b[49m\u001b[38;5;241;43m.\u001b[39;49m\u001b[43mread_csv\u001b[49m\u001b[43m(\u001b[49m\u001b[38;5;124;43m\"\u001b[39;49m\u001b[38;5;124;43moutput.csv\u001b[39;49m\u001b[38;5;124;43m\"\u001b[39;49m\u001b[43m)\u001b[49m\n\u001b[0;32m      3\u001b[0m \u001b[38;5;66;03m#Ensure proper formatting\u001b[39;00m\n\u001b[0;32m      4\u001b[0m df[\u001b[38;5;124m'\u001b[39m\u001b[38;5;124mCall_Zipcode\u001b[39m\u001b[38;5;124m'\u001b[39m] \u001b[38;5;241m=\u001b[39m df[\u001b[38;5;124m'\u001b[39m\u001b[38;5;124mCall_Zipcode\u001b[39m\u001b[38;5;124m'\u001b[39m]\u001b[38;5;241m.\u001b[39mastype(\u001b[38;5;28mstr\u001b[39m)\u001b[38;5;241m.\u001b[39mstr\u001b[38;5;241m.\u001b[39mreplace(\u001b[38;5;124mr\u001b[39m\u001b[38;5;124m'\u001b[39m\u001b[38;5;124m\\\u001b[39m\u001b[38;5;124m.0$\u001b[39m\u001b[38;5;124m'\u001b[39m, \u001b[38;5;124m'\u001b[39m\u001b[38;5;124m'\u001b[39m, regex\u001b[38;5;241m=\u001b[39m\u001b[38;5;28;01mTrue\u001b[39;00m)\n",
      "File \u001b[1;32m~\\miniconda3\\Lib\\site-packages\\pandas\\io\\parsers\\readers.py:1026\u001b[0m, in \u001b[0;36mread_csv\u001b[1;34m(filepath_or_buffer, sep, delimiter, header, names, index_col, usecols, dtype, engine, converters, true_values, false_values, skipinitialspace, skiprows, skipfooter, nrows, na_values, keep_default_na, na_filter, verbose, skip_blank_lines, parse_dates, infer_datetime_format, keep_date_col, date_parser, date_format, dayfirst, cache_dates, iterator, chunksize, compression, thousands, decimal, lineterminator, quotechar, quoting, doublequote, escapechar, comment, encoding, encoding_errors, dialect, on_bad_lines, delim_whitespace, low_memory, memory_map, float_precision, storage_options, dtype_backend)\u001b[0m\n\u001b[0;32m   1013\u001b[0m kwds_defaults \u001b[38;5;241m=\u001b[39m _refine_defaults_read(\n\u001b[0;32m   1014\u001b[0m     dialect,\n\u001b[0;32m   1015\u001b[0m     delimiter,\n\u001b[1;32m   (...)\u001b[0m\n\u001b[0;32m   1022\u001b[0m     dtype_backend\u001b[38;5;241m=\u001b[39mdtype_backend,\n\u001b[0;32m   1023\u001b[0m )\n\u001b[0;32m   1024\u001b[0m kwds\u001b[38;5;241m.\u001b[39mupdate(kwds_defaults)\n\u001b[1;32m-> 1026\u001b[0m \u001b[38;5;28;01mreturn\u001b[39;00m \u001b[43m_read\u001b[49m\u001b[43m(\u001b[49m\u001b[43mfilepath_or_buffer\u001b[49m\u001b[43m,\u001b[49m\u001b[43m \u001b[49m\u001b[43mkwds\u001b[49m\u001b[43m)\u001b[49m\n",
      "File \u001b[1;32m~\\miniconda3\\Lib\\site-packages\\pandas\\io\\parsers\\readers.py:620\u001b[0m, in \u001b[0;36m_read\u001b[1;34m(filepath_or_buffer, kwds)\u001b[0m\n\u001b[0;32m    617\u001b[0m _validate_names(kwds\u001b[38;5;241m.\u001b[39mget(\u001b[38;5;124m\"\u001b[39m\u001b[38;5;124mnames\u001b[39m\u001b[38;5;124m\"\u001b[39m, \u001b[38;5;28;01mNone\u001b[39;00m))\n\u001b[0;32m    619\u001b[0m \u001b[38;5;66;03m# Create the parser.\u001b[39;00m\n\u001b[1;32m--> 620\u001b[0m parser \u001b[38;5;241m=\u001b[39m \u001b[43mTextFileReader\u001b[49m\u001b[43m(\u001b[49m\u001b[43mfilepath_or_buffer\u001b[49m\u001b[43m,\u001b[49m\u001b[43m \u001b[49m\u001b[38;5;241;43m*\u001b[39;49m\u001b[38;5;241;43m*\u001b[39;49m\u001b[43mkwds\u001b[49m\u001b[43m)\u001b[49m\n\u001b[0;32m    622\u001b[0m \u001b[38;5;28;01mif\u001b[39;00m chunksize \u001b[38;5;129;01mor\u001b[39;00m iterator:\n\u001b[0;32m    623\u001b[0m     \u001b[38;5;28;01mreturn\u001b[39;00m parser\n",
      "File \u001b[1;32m~\\miniconda3\\Lib\\site-packages\\pandas\\io\\parsers\\readers.py:1620\u001b[0m, in \u001b[0;36mTextFileReader.__init__\u001b[1;34m(self, f, engine, **kwds)\u001b[0m\n\u001b[0;32m   1617\u001b[0m     \u001b[38;5;28mself\u001b[39m\u001b[38;5;241m.\u001b[39moptions[\u001b[38;5;124m\"\u001b[39m\u001b[38;5;124mhas_index_names\u001b[39m\u001b[38;5;124m\"\u001b[39m] \u001b[38;5;241m=\u001b[39m kwds[\u001b[38;5;124m\"\u001b[39m\u001b[38;5;124mhas_index_names\u001b[39m\u001b[38;5;124m\"\u001b[39m]\n\u001b[0;32m   1619\u001b[0m \u001b[38;5;28mself\u001b[39m\u001b[38;5;241m.\u001b[39mhandles: IOHandles \u001b[38;5;241m|\u001b[39m \u001b[38;5;28;01mNone\u001b[39;00m \u001b[38;5;241m=\u001b[39m \u001b[38;5;28;01mNone\u001b[39;00m\n\u001b[1;32m-> 1620\u001b[0m \u001b[38;5;28mself\u001b[39m\u001b[38;5;241m.\u001b[39m_engine \u001b[38;5;241m=\u001b[39m \u001b[38;5;28;43mself\u001b[39;49m\u001b[38;5;241;43m.\u001b[39;49m\u001b[43m_make_engine\u001b[49m\u001b[43m(\u001b[49m\u001b[43mf\u001b[49m\u001b[43m,\u001b[49m\u001b[43m \u001b[49m\u001b[38;5;28;43mself\u001b[39;49m\u001b[38;5;241;43m.\u001b[39;49m\u001b[43mengine\u001b[49m\u001b[43m)\u001b[49m\n",
      "File \u001b[1;32m~\\miniconda3\\Lib\\site-packages\\pandas\\io\\parsers\\readers.py:1880\u001b[0m, in \u001b[0;36mTextFileReader._make_engine\u001b[1;34m(self, f, engine)\u001b[0m\n\u001b[0;32m   1878\u001b[0m     \u001b[38;5;28;01mif\u001b[39;00m \u001b[38;5;124m\"\u001b[39m\u001b[38;5;124mb\u001b[39m\u001b[38;5;124m\"\u001b[39m \u001b[38;5;129;01mnot\u001b[39;00m \u001b[38;5;129;01min\u001b[39;00m mode:\n\u001b[0;32m   1879\u001b[0m         mode \u001b[38;5;241m+\u001b[39m\u001b[38;5;241m=\u001b[39m \u001b[38;5;124m\"\u001b[39m\u001b[38;5;124mb\u001b[39m\u001b[38;5;124m\"\u001b[39m\n\u001b[1;32m-> 1880\u001b[0m \u001b[38;5;28mself\u001b[39m\u001b[38;5;241m.\u001b[39mhandles \u001b[38;5;241m=\u001b[39m \u001b[43mget_handle\u001b[49m\u001b[43m(\u001b[49m\n\u001b[0;32m   1881\u001b[0m \u001b[43m    \u001b[49m\u001b[43mf\u001b[49m\u001b[43m,\u001b[49m\n\u001b[0;32m   1882\u001b[0m \u001b[43m    \u001b[49m\u001b[43mmode\u001b[49m\u001b[43m,\u001b[49m\n\u001b[0;32m   1883\u001b[0m \u001b[43m    \u001b[49m\u001b[43mencoding\u001b[49m\u001b[38;5;241;43m=\u001b[39;49m\u001b[38;5;28;43mself\u001b[39;49m\u001b[38;5;241;43m.\u001b[39;49m\u001b[43moptions\u001b[49m\u001b[38;5;241;43m.\u001b[39;49m\u001b[43mget\u001b[49m\u001b[43m(\u001b[49m\u001b[38;5;124;43m\"\u001b[39;49m\u001b[38;5;124;43mencoding\u001b[39;49m\u001b[38;5;124;43m\"\u001b[39;49m\u001b[43m,\u001b[49m\u001b[43m \u001b[49m\u001b[38;5;28;43;01mNone\u001b[39;49;00m\u001b[43m)\u001b[49m\u001b[43m,\u001b[49m\n\u001b[0;32m   1884\u001b[0m \u001b[43m    \u001b[49m\u001b[43mcompression\u001b[49m\u001b[38;5;241;43m=\u001b[39;49m\u001b[38;5;28;43mself\u001b[39;49m\u001b[38;5;241;43m.\u001b[39;49m\u001b[43moptions\u001b[49m\u001b[38;5;241;43m.\u001b[39;49m\u001b[43mget\u001b[49m\u001b[43m(\u001b[49m\u001b[38;5;124;43m\"\u001b[39;49m\u001b[38;5;124;43mcompression\u001b[39;49m\u001b[38;5;124;43m\"\u001b[39;49m\u001b[43m,\u001b[49m\u001b[43m \u001b[49m\u001b[38;5;28;43;01mNone\u001b[39;49;00m\u001b[43m)\u001b[49m\u001b[43m,\u001b[49m\n\u001b[0;32m   1885\u001b[0m \u001b[43m    \u001b[49m\u001b[43mmemory_map\u001b[49m\u001b[38;5;241;43m=\u001b[39;49m\u001b[38;5;28;43mself\u001b[39;49m\u001b[38;5;241;43m.\u001b[39;49m\u001b[43moptions\u001b[49m\u001b[38;5;241;43m.\u001b[39;49m\u001b[43mget\u001b[49m\u001b[43m(\u001b[49m\u001b[38;5;124;43m\"\u001b[39;49m\u001b[38;5;124;43mmemory_map\u001b[39;49m\u001b[38;5;124;43m\"\u001b[39;49m\u001b[43m,\u001b[49m\u001b[43m \u001b[49m\u001b[38;5;28;43;01mFalse\u001b[39;49;00m\u001b[43m)\u001b[49m\u001b[43m,\u001b[49m\n\u001b[0;32m   1886\u001b[0m \u001b[43m    \u001b[49m\u001b[43mis_text\u001b[49m\u001b[38;5;241;43m=\u001b[39;49m\u001b[43mis_text\u001b[49m\u001b[43m,\u001b[49m\n\u001b[0;32m   1887\u001b[0m \u001b[43m    \u001b[49m\u001b[43merrors\u001b[49m\u001b[38;5;241;43m=\u001b[39;49m\u001b[38;5;28;43mself\u001b[39;49m\u001b[38;5;241;43m.\u001b[39;49m\u001b[43moptions\u001b[49m\u001b[38;5;241;43m.\u001b[39;49m\u001b[43mget\u001b[49m\u001b[43m(\u001b[49m\u001b[38;5;124;43m\"\u001b[39;49m\u001b[38;5;124;43mencoding_errors\u001b[39;49m\u001b[38;5;124;43m\"\u001b[39;49m\u001b[43m,\u001b[49m\u001b[43m \u001b[49m\u001b[38;5;124;43m\"\u001b[39;49m\u001b[38;5;124;43mstrict\u001b[39;49m\u001b[38;5;124;43m\"\u001b[39;49m\u001b[43m)\u001b[49m\u001b[43m,\u001b[49m\n\u001b[0;32m   1888\u001b[0m \u001b[43m    \u001b[49m\u001b[43mstorage_options\u001b[49m\u001b[38;5;241;43m=\u001b[39;49m\u001b[38;5;28;43mself\u001b[39;49m\u001b[38;5;241;43m.\u001b[39;49m\u001b[43moptions\u001b[49m\u001b[38;5;241;43m.\u001b[39;49m\u001b[43mget\u001b[49m\u001b[43m(\u001b[49m\u001b[38;5;124;43m\"\u001b[39;49m\u001b[38;5;124;43mstorage_options\u001b[39;49m\u001b[38;5;124;43m\"\u001b[39;49m\u001b[43m,\u001b[49m\u001b[43m \u001b[49m\u001b[38;5;28;43;01mNone\u001b[39;49;00m\u001b[43m)\u001b[49m\u001b[43m,\u001b[49m\n\u001b[0;32m   1889\u001b[0m \u001b[43m\u001b[49m\u001b[43m)\u001b[49m\n\u001b[0;32m   1890\u001b[0m \u001b[38;5;28;01massert\u001b[39;00m \u001b[38;5;28mself\u001b[39m\u001b[38;5;241m.\u001b[39mhandles \u001b[38;5;129;01mis\u001b[39;00m \u001b[38;5;129;01mnot\u001b[39;00m \u001b[38;5;28;01mNone\u001b[39;00m\n\u001b[0;32m   1891\u001b[0m f \u001b[38;5;241m=\u001b[39m \u001b[38;5;28mself\u001b[39m\u001b[38;5;241m.\u001b[39mhandles\u001b[38;5;241m.\u001b[39mhandle\n",
      "File \u001b[1;32m~\\miniconda3\\Lib\\site-packages\\pandas\\io\\common.py:873\u001b[0m, in \u001b[0;36mget_handle\u001b[1;34m(path_or_buf, mode, encoding, compression, memory_map, is_text, errors, storage_options)\u001b[0m\n\u001b[0;32m    868\u001b[0m \u001b[38;5;28;01melif\u001b[39;00m \u001b[38;5;28misinstance\u001b[39m(handle, \u001b[38;5;28mstr\u001b[39m):\n\u001b[0;32m    869\u001b[0m     \u001b[38;5;66;03m# Check whether the filename is to be opened in binary mode.\u001b[39;00m\n\u001b[0;32m    870\u001b[0m     \u001b[38;5;66;03m# Binary mode does not support 'encoding' and 'newline'.\u001b[39;00m\n\u001b[0;32m    871\u001b[0m     \u001b[38;5;28;01mif\u001b[39;00m ioargs\u001b[38;5;241m.\u001b[39mencoding \u001b[38;5;129;01mand\u001b[39;00m \u001b[38;5;124m\"\u001b[39m\u001b[38;5;124mb\u001b[39m\u001b[38;5;124m\"\u001b[39m \u001b[38;5;129;01mnot\u001b[39;00m \u001b[38;5;129;01min\u001b[39;00m ioargs\u001b[38;5;241m.\u001b[39mmode:\n\u001b[0;32m    872\u001b[0m         \u001b[38;5;66;03m# Encoding\u001b[39;00m\n\u001b[1;32m--> 873\u001b[0m         handle \u001b[38;5;241m=\u001b[39m \u001b[38;5;28;43mopen\u001b[39;49m\u001b[43m(\u001b[49m\n\u001b[0;32m    874\u001b[0m \u001b[43m            \u001b[49m\u001b[43mhandle\u001b[49m\u001b[43m,\u001b[49m\n\u001b[0;32m    875\u001b[0m \u001b[43m            \u001b[49m\u001b[43mioargs\u001b[49m\u001b[38;5;241;43m.\u001b[39;49m\u001b[43mmode\u001b[49m\u001b[43m,\u001b[49m\n\u001b[0;32m    876\u001b[0m \u001b[43m            \u001b[49m\u001b[43mencoding\u001b[49m\u001b[38;5;241;43m=\u001b[39;49m\u001b[43mioargs\u001b[49m\u001b[38;5;241;43m.\u001b[39;49m\u001b[43mencoding\u001b[49m\u001b[43m,\u001b[49m\n\u001b[0;32m    877\u001b[0m \u001b[43m            \u001b[49m\u001b[43merrors\u001b[49m\u001b[38;5;241;43m=\u001b[39;49m\u001b[43merrors\u001b[49m\u001b[43m,\u001b[49m\n\u001b[0;32m    878\u001b[0m \u001b[43m            \u001b[49m\u001b[43mnewline\u001b[49m\u001b[38;5;241;43m=\u001b[39;49m\u001b[38;5;124;43m\"\u001b[39;49m\u001b[38;5;124;43m\"\u001b[39;49m\u001b[43m,\u001b[49m\n\u001b[0;32m    879\u001b[0m \u001b[43m        \u001b[49m\u001b[43m)\u001b[49m\n\u001b[0;32m    880\u001b[0m     \u001b[38;5;28;01melse\u001b[39;00m:\n\u001b[0;32m    881\u001b[0m         \u001b[38;5;66;03m# Binary mode\u001b[39;00m\n\u001b[0;32m    882\u001b[0m         handle \u001b[38;5;241m=\u001b[39m \u001b[38;5;28mopen\u001b[39m(handle, ioargs\u001b[38;5;241m.\u001b[39mmode)\n",
      "\u001b[1;31mFileNotFoundError\u001b[0m: [Errno 2] No such file or directory: 'output.csv'"
     ]
    }
   ],
   "source": [
    "#df = pd.read_csv(\"call_data_from_CAD.csv\")\n",
    "df = pd.read_csv(\"output.csv\")\n",
    "#Ensure proper formatting\n",
    "df['Call_Zipcode'] = df['Call_Zipcode'].astype(str).str.replace(r'\\.0$', '', regex=True)\n",
    "df['Call_Created_Time'] = pd.to_datetime(df['Call_Created_Time'])\n",
    "df['Date'] = df['Call_Created_Time'].dt.date"
   ]
  },
  {
   "cell_type": "markdown",
   "id": "0b646b2c-46d2-4ff4-8c4a-0fcb99851fd0",
   "metadata": {},
   "source": [
    "Identify unique zip codes, plot, and check for usefulness (contained in all years)"
   ]
  },
  {
   "cell_type": "code",
   "execution_count": 3,
   "id": "46e98c0a-8814-4a8f-be48-70d4b7bdddcc",
   "metadata": {},
   "outputs": [
    {
     "ename": "NameError",
     "evalue": "name 'df' is not defined",
     "output_type": "error",
     "traceback": [
      "\u001b[1;31m---------------------------------------------------------------------------\u001b[0m",
      "\u001b[1;31mNameError\u001b[0m                                 Traceback (most recent call last)",
      "Cell \u001b[1;32mIn[3], line 1\u001b[0m\n\u001b[1;32m----> 1\u001b[0m unique_zipcodes \u001b[38;5;241m=\u001b[39m \u001b[43mdf\u001b[49m[\u001b[38;5;124m'\u001b[39m\u001b[38;5;124mCall_Zipcode\u001b[39m\u001b[38;5;124m'\u001b[39m]\u001b[38;5;241m.\u001b[39munique()\n\u001b[0;32m      2\u001b[0m num_zipcodes \u001b[38;5;241m=\u001b[39m \u001b[38;5;28mlen\u001b[39m(unique_zipcodes)\n",
      "\u001b[1;31mNameError\u001b[0m: name 'df' is not defined"
     ]
    }
   ],
   "source": [
    "unique_zipcodes = df['Call_Zipcode'].unique()\n",
    "num_zipcodes = len(unique_zipcodes)"
   ]
  },
  {
   "cell_type": "code",
   "execution_count": 4,
   "id": "bbba6cdc-2b29-4ad9-bb81-9c44a7bdacbe",
   "metadata": {},
   "outputs": [
    {
     "ename": "NameError",
     "evalue": "name 'num_zipcodes' is not defined",
     "output_type": "error",
     "traceback": [
      "\u001b[1;31m---------------------------------------------------------------------------\u001b[0m",
      "\u001b[1;31mNameError\u001b[0m                                 Traceback (most recent call last)",
      "Cell \u001b[1;32mIn[4], line 1\u001b[0m\n\u001b[1;32m----> 1\u001b[0m fig, axes \u001b[38;5;241m=\u001b[39m plt\u001b[38;5;241m.\u001b[39msubplots(nrows\u001b[38;5;241m=\u001b[39m\u001b[43mnum_zipcodes\u001b[49m, ncols\u001b[38;5;241m=\u001b[39m\u001b[38;5;241m1\u001b[39m, figsize\u001b[38;5;241m=\u001b[39m(\u001b[38;5;241m12\u001b[39m, num_zipcodes \u001b[38;5;241m*\u001b[39m \u001b[38;5;241m4\u001b[39m), sharex\u001b[38;5;241m=\u001b[39m\u001b[38;5;28;01mTrue\u001b[39;00m)\n\u001b[0;32m      3\u001b[0m \u001b[38;5;66;03m# Iterate through each zip code and plot the count of calls by year\u001b[39;00m\n\u001b[0;32m      4\u001b[0m \u001b[38;5;28;01mfor\u001b[39;00m i, zipcode \u001b[38;5;129;01min\u001b[39;00m \u001b[38;5;28menumerate\u001b[39m(unique_zipcodes):\n",
      "\u001b[1;31mNameError\u001b[0m: name 'num_zipcodes' is not defined"
     ]
    }
   ],
   "source": [
    "fig, axes = plt.subplots(nrows=num_zipcodes, ncols=1, figsize=(12, num_zipcodes * 4), sharex=True)\n",
    "\n",
    "# Iterate through each zip code and plot the count of calls by year\n",
    "for i, zipcode in enumerate(unique_zipcodes):\n",
    "    ax = axes[i]\n",
    "    zip_df = df[df['Call_Zipcode'] == zipcode]\n",
    "    sns.countplot(data=zip_df, x='Year', ax=ax)\n",
    "    ax.set_title(f'Distribution of Calls by Year in Zip Code {zipcode}')\n",
    "    ax.set_xlabel('Year')\n",
    "    ax.set_ylabel('Number of Calls')\n",
    "\n",
    "plt.tight_layout()\n",
    "plt.show()"
   ]
  },
  {
   "cell_type": "code",
   "execution_count": 5,
   "id": "68571b7a-54b9-40ab-8161-cb7de0cf735c",
   "metadata": {},
   "outputs": [
    {
     "ename": "NameError",
     "evalue": "name 'df' is not defined",
     "output_type": "error",
     "traceback": [
      "\u001b[1;31m---------------------------------------------------------------------------\u001b[0m",
      "\u001b[1;31mNameError\u001b[0m                                 Traceback (most recent call last)",
      "Cell \u001b[1;32mIn[5], line 2\u001b[0m\n\u001b[0;32m      1\u001b[0m excluded_zipcodes \u001b[38;5;241m=\u001b[39m [\u001b[38;5;124m'\u001b[39m\u001b[38;5;124m97478\u001b[39m\u001b[38;5;124m'\u001b[39m, \u001b[38;5;124m'\u001b[39m\u001b[38;5;124m97419\u001b[39m\u001b[38;5;124m'\u001b[39m, \u001b[38;5;124m'\u001b[39m\u001b[38;5;124m97437\u001b[39m\u001b[38;5;124m'\u001b[39m, \u001b[38;5;124m'\u001b[39m\u001b[38;5;124m97448\u001b[39m\u001b[38;5;124m'\u001b[39m, \u001b[38;5;124m'\u001b[39m\u001b[38;5;124m97424\u001b[39m\u001b[38;5;124m'\u001b[39m, \u001b[38;5;124m'\u001b[39m\u001b[38;5;124mnan\u001b[39m\u001b[38;5;124m'\u001b[39m]\n\u001b[1;32m----> 2\u001b[0m df \u001b[38;5;241m=\u001b[39m \u001b[43mdf\u001b[49m[\u001b[38;5;241m~\u001b[39mdf[\u001b[38;5;124m'\u001b[39m\u001b[38;5;124mCall_Zipcode\u001b[39m\u001b[38;5;124m'\u001b[39m]\u001b[38;5;241m.\u001b[39misin(excluded_zipcodes) \u001b[38;5;241m&\u001b[39m df[\u001b[38;5;124m'\u001b[39m\u001b[38;5;124mCall_Zipcode\u001b[39m\u001b[38;5;124m'\u001b[39m]\u001b[38;5;241m.\u001b[39mnotna()]\n",
      "\u001b[1;31mNameError\u001b[0m: name 'df' is not defined"
     ]
    }
   ],
   "source": [
    "excluded_zipcodes = ['97478', '97419', '97437', '97448', '97424', 'nan']\n",
    "df = df[~df['Call_Zipcode'].isin(excluded_zipcodes) & df['Call_Zipcode'].notna()]"
   ]
  },
  {
   "cell_type": "markdown",
   "id": "2f8d0de4-fc18-4af7-8397-21a85855e0e7",
   "metadata": {},
   "source": [
    "Insufficient data in 97478,97419,97437,97448,97424,nan, exclude these."
   ]
  },
  {
   "cell_type": "code",
   "execution_count": 6,
   "id": "8cbe8f77-fbe8-437b-bd3b-19ac321da6a4",
   "metadata": {},
   "outputs": [],
   "source": [
    "# df[\"Call_Zipcode\"].unique()"
   ]
  },
  {
   "cell_type": "markdown",
   "id": "9fad5f2e-d1f2-4e2c-a5bc-784ce17a31a2",
   "metadata": {},
   "source": [
    "Modify dataframe to exclude unusable zip codes"
   ]
  },
  {
   "cell_type": "code",
   "execution_count": 7,
   "id": "41535758-611f-480b-8b84-4b49115eadc8",
   "metadata": {},
   "outputs": [
    {
     "ename": "NameError",
     "evalue": "name 'df' is not defined",
     "output_type": "error",
     "traceback": [
      "\u001b[1;31m---------------------------------------------------------------------------\u001b[0m",
      "\u001b[1;31mNameError\u001b[0m                                 Traceback (most recent call last)",
      "Cell \u001b[1;32mIn[7], line 1\u001b[0m\n\u001b[1;32m----> 1\u001b[0m df \u001b[38;5;241m=\u001b[39m \u001b[43mdf\u001b[49m[\u001b[38;5;241m~\u001b[39mdf[\u001b[38;5;124m'\u001b[39m\u001b[38;5;124mCall_Zipcode\u001b[39m\u001b[38;5;124m'\u001b[39m]\u001b[38;5;241m.\u001b[39misin(excluded_zipcodes) \u001b[38;5;241m&\u001b[39m df[\u001b[38;5;124m'\u001b[39m\u001b[38;5;124mCall_Zipcode\u001b[39m\u001b[38;5;124m'\u001b[39m]\u001b[38;5;241m.\u001b[39mnotna()]\n\u001b[0;32m      2\u001b[0m df[\u001b[38;5;124m\"\u001b[39m\u001b[38;5;124mCall_Zipcode\u001b[39m\u001b[38;5;124m\"\u001b[39m]\u001b[38;5;241m.\u001b[39munique()\n",
      "\u001b[1;31mNameError\u001b[0m: name 'df' is not defined"
     ]
    }
   ],
   "source": [
    "df = df[~df['Call_Zipcode'].isin(excluded_zipcodes) & df['Call_Zipcode'].notna()]\n",
    "df[\"Call_Zipcode\"].unique()"
   ]
  },
  {
   "cell_type": "markdown",
   "id": "d4df609e-d099-4cdf-97cf-50e9c7d6a731",
   "metadata": {},
   "source": [
    "Plot Zip Code Distribution by Hour"
   ]
  },
  {
   "cell_type": "code",
   "execution_count": 8,
   "id": "0da1aa08-d5a0-4eca-8f8a-f8c5ee3f4ada",
   "metadata": {},
   "outputs": [
    {
     "ename": "NameError",
     "evalue": "name 'df' is not defined",
     "output_type": "error",
     "traceback": [
      "\u001b[1;31m---------------------------------------------------------------------------\u001b[0m",
      "\u001b[1;31mNameError\u001b[0m                                 Traceback (most recent call last)",
      "Cell \u001b[1;32mIn[8], line 2\u001b[0m\n\u001b[0;32m      1\u001b[0m \u001b[38;5;66;03m# Create a DataFrame to hold the count of calls by hour for each zip code\u001b[39;00m\n\u001b[1;32m----> 2\u001b[0m hourly_counts \u001b[38;5;241m=\u001b[39m \u001b[43mdf\u001b[49m\u001b[38;5;241m.\u001b[39mgroupby([\u001b[38;5;124m'\u001b[39m\u001b[38;5;124mCall_Zipcode\u001b[39m\u001b[38;5;124m'\u001b[39m, \u001b[38;5;124m'\u001b[39m\u001b[38;5;124mHour\u001b[39m\u001b[38;5;124m'\u001b[39m])\u001b[38;5;241m.\u001b[39msize()\u001b[38;5;241m.\u001b[39mreset_index(name\u001b[38;5;241m=\u001b[39m\u001b[38;5;124m'\u001b[39m\u001b[38;5;124mCounts\u001b[39m\u001b[38;5;124m'\u001b[39m)\n\u001b[0;32m      4\u001b[0m \u001b[38;5;66;03m#Re-establish zip codes\u001b[39;00m\n\u001b[0;32m      5\u001b[0m unique_zipcodes \u001b[38;5;241m=\u001b[39m df[\u001b[38;5;124m\"\u001b[39m\u001b[38;5;124mCall_Zipcode\u001b[39m\u001b[38;5;124m\"\u001b[39m]\u001b[38;5;241m.\u001b[39munique()\n",
      "\u001b[1;31mNameError\u001b[0m: name 'df' is not defined"
     ]
    }
   ],
   "source": [
    "# Create a DataFrame to hold the count of calls by hour for each zip code\n",
    "hourly_counts = df.groupby(['Call_Zipcode', 'Hour']).size().reset_index(name='Counts')\n",
    "\n",
    "#Re-establish zip codes\n",
    "unique_zipcodes = df[\"Call_Zipcode\"].unique()\n",
    "\n",
    "# Plot line plots\n",
    "plt.figure(figsize=(14, 8))\n",
    "for zipcode in unique_zipcodes:\n",
    "    zip_df = hourly_counts[hourly_counts['Call_Zipcode'] == zipcode]\n",
    "    sns.lineplot(data=zip_df, x='Hour', y='Counts', label=zipcode)\n",
    "    desc_stats = zip_df['Counts'].describe()[['min', 'max', 'mean','std']]\n",
    "    print(f\"Zip Code: {zipcode}\")\n",
    "    print(desc_stats.to_string())\n",
    "\n",
    "plt.title('Distribution of Call Times by Hour Across Zip Codes')\n",
    "plt.xlabel('Hour of the Day')\n",
    "plt.ylabel('Number of Calls')\n",
    "plt.legend(title='Zip Code')\n",
    "plt.xticks(range(0, 24))\n",
    "plt.grid(True)\n",
    "plt.tight_layout()\n",
    "plt.show()"
   ]
  },
  {
   "cell_type": "markdown",
   "id": "32f60174-71e6-40d3-9be8-375552edeb2f",
   "metadata": {},
   "source": [
    "Plot Zip Code Distribution by Month"
   ]
  },
  {
   "cell_type": "code",
   "execution_count": 9,
   "id": "47529b4e-b680-4399-a909-cfda868847ff",
   "metadata": {},
   "outputs": [
    {
     "ename": "NameError",
     "evalue": "name 'df' is not defined",
     "output_type": "error",
     "traceback": [
      "\u001b[1;31m---------------------------------------------------------------------------\u001b[0m",
      "\u001b[1;31mNameError\u001b[0m                                 Traceback (most recent call last)",
      "Cell \u001b[1;32mIn[9], line 2\u001b[0m\n\u001b[0;32m      1\u001b[0m \u001b[38;5;66;03m# Create a DataFrame to hold the count of calls by month for each zip code\u001b[39;00m\n\u001b[1;32m----> 2\u001b[0m monthly_counts \u001b[38;5;241m=\u001b[39m \u001b[43mdf\u001b[49m\u001b[38;5;241m.\u001b[39mgroupby([\u001b[38;5;124m'\u001b[39m\u001b[38;5;124mCall_Zipcode\u001b[39m\u001b[38;5;124m'\u001b[39m, \u001b[38;5;124m'\u001b[39m\u001b[38;5;124mMonth\u001b[39m\u001b[38;5;124m'\u001b[39m])\u001b[38;5;241m.\u001b[39msize()\u001b[38;5;241m.\u001b[39mreset_index(name\u001b[38;5;241m=\u001b[39m\u001b[38;5;124m'\u001b[39m\u001b[38;5;124mCounts\u001b[39m\u001b[38;5;124m'\u001b[39m)\n\u001b[0;32m      4\u001b[0m \u001b[38;5;66;03m# # Normalize the counts to proportions for each zip code\u001b[39;00m\n\u001b[0;32m      5\u001b[0m \u001b[38;5;66;03m# monthly_counts['Proportion'] = monthly_counts.groupby('Call_Zipcode')['Counts'].transform(lambda x: x / x.sum())\u001b[39;00m\n\u001b[0;32m      6\u001b[0m \n\u001b[0;32m      7\u001b[0m \u001b[38;5;66;03m# Plot line plots\u001b[39;00m\n\u001b[0;32m      8\u001b[0m plt\u001b[38;5;241m.\u001b[39mfigure(figsize\u001b[38;5;241m=\u001b[39m(\u001b[38;5;241m14\u001b[39m, \u001b[38;5;241m8\u001b[39m))\n",
      "\u001b[1;31mNameError\u001b[0m: name 'df' is not defined"
     ]
    }
   ],
   "source": [
    "# Create a DataFrame to hold the count of calls by month for each zip code\n",
    "monthly_counts = df.groupby(['Call_Zipcode', 'Month']).size().reset_index(name='Counts')\n",
    "\n",
    "# # Normalize the counts to proportions for each zip code\n",
    "# monthly_counts['Proportion'] = monthly_counts.groupby('Call_Zipcode')['Counts'].transform(lambda x: x / x.sum())\n",
    "\n",
    "# Plot line plots\n",
    "plt.figure(figsize=(14, 8))\n",
    "for zipcode in unique_zipcodes:\n",
    "    zip_df = monthly_counts[monthly_counts['Call_Zipcode'] == zipcode]\n",
    "    sns.lineplot(data=zip_df, x='Month', y='Counts', label=zipcode)\n",
    "    desc_stats = zip_df['Counts'].describe()[['min', 'max', 'mean','std']]\n",
    "    print(f\"Zip Code: {zipcode}\")\n",
    "    print(desc_stats.to_string())\n",
    "\n",
    "\n",
    "plt.title('Distribution of Call Times by Month Across Zip Codes')\n",
    "plt.xlabel('Month of the Year (all years 2016-2021)')\n",
    "plt.ylabel('Number of Calls')\n",
    "plt.legend(title='Zip Code')\n",
    "#plt.xticks(range(0, 12))\n",
    "plt.grid(True)\n",
    "plt.tight_layout()\n",
    "plt.show()"
   ]
  },
  {
   "cell_type": "markdown",
   "id": "702a4f78-7269-4854-b12c-450142c0dc65",
   "metadata": {},
   "source": [
    "Correlation analysis, using percent change day to day for year to year comparisons within each zip code"
   ]
  },
  {
   "cell_type": "code",
   "execution_count": 10,
   "id": "c4b58cba-42e8-4b19-9d20-b890709b3cdc",
   "metadata": {},
   "outputs": [
    {
     "ename": "NameError",
     "evalue": "name 'df' is not defined",
     "output_type": "error",
     "traceback": [
      "\u001b[1;31m---------------------------------------------------------------------------\u001b[0m",
      "\u001b[1;31mNameError\u001b[0m                                 Traceback (most recent call last)",
      "Cell \u001b[1;32mIn[10], line 2\u001b[0m\n\u001b[0;32m      1\u001b[0m \u001b[38;5;66;03m# Count number of calls per day per zip code\u001b[39;00m\n\u001b[1;32m----> 2\u001b[0m calls_per_day_zip \u001b[38;5;241m=\u001b[39m \u001b[43mdf\u001b[49m\u001b[38;5;241m.\u001b[39mgroupby([\u001b[38;5;124m'\u001b[39m\u001b[38;5;124mDate\u001b[39m\u001b[38;5;124m'\u001b[39m, \u001b[38;5;124m'\u001b[39m\u001b[38;5;124mCall_Zipcode\u001b[39m\u001b[38;5;124m'\u001b[39m])\u001b[38;5;241m.\u001b[39msize()\u001b[38;5;241m.\u001b[39munstack(fill_value\u001b[38;5;241m=\u001b[39m\u001b[38;5;241m0\u001b[39m)\n\u001b[0;32m      4\u001b[0m \u001b[38;5;66;03m# Calculate percentage change day over day for each zip code\u001b[39;00m\n\u001b[0;32m      5\u001b[0m calls_pct_change_zip \u001b[38;5;241m=\u001b[39m calls_per_day_zip\u001b[38;5;241m.\u001b[39mpct_change() \u001b[38;5;241m*\u001b[39m \u001b[38;5;241m100\u001b[39m\n",
      "\u001b[1;31mNameError\u001b[0m: name 'df' is not defined"
     ]
    }
   ],
   "source": [
    "# Count number of calls per day per zip code\n",
    "calls_per_day_zip = df.groupby(['Date', 'Call_Zipcode']).size().unstack(fill_value=0)\n",
    "\n",
    "# Calculate percentage change day over day for each zip code\n",
    "calls_pct_change_zip = calls_per_day_zip.pct_change() * 100\n",
    "\n",
    "# Reset the index to get a DataFrame\n",
    "calls_pct_change_zip_df = calls_pct_change_zip.reset_index().melt(id_vars='Date', var_name='ZipCode', value_name='calls_pct_change')\n",
    "\n",
    "# # Drop NaN values resulting from the percentage change calculation\n",
    "# calls_pct_change_df = calls_pct_change_df.dropna()\n",
    "\n",
    "# Extract year from the 'Date' column\n",
    "calls_pct_change_zip_df['Year'] = pd.to_datetime(calls_pct_change_zip_df['Date']).dt.year\n",
    "\n",
    "# Filter out February 29th records\n",
    "calls_pct_change_zip_df = calls_pct_change_zip_df[~((pd.to_datetime(calls_pct_change_zip_df['Date']).dt.month == 2) & (pd.to_datetime(calls_pct_change_zip_df['Date']).dt.day == 29))]\n",
    "# Function to calculate bootstrap confidence interval for Spearman correlation\n",
    "def bootstrap_confidence_interval(data1, data2, n_bootstraps=1000, alpha=0.05):\n",
    "    bootstrapped_corrs = []\n",
    "    for _ in range(n_bootstraps):\n",
    "        sample1, sample2 = resample(data1, data2)\n",
    "        corr, _ = spearmanr(sample1, sample2)\n",
    "        bootstrapped_corrs.append(corr)\n",
    "    sorted_corrs = np.sort(bootstrapped_corrs)\n",
    "    ci_lower = sorted_corrs[int((alpha/2) * n_bootstraps)]\n",
    "    ci_upper = sorted_corrs[int((1 - alpha/2) * n_bootstraps)]\n",
    "    return ci_lower, ci_upper\n",
    "\n",
    "years = calls_pct_change_zip_df['Year'].unique()\n",
    "#years = [year for year in years if year not in [2023, 2022]]\n",
    "\n",
    "# Group the data by zip code\n",
    "grouped = calls_pct_change_zip_df.groupby('ZipCode')\n",
    "\n",
    "# Create multi-index DataFrames to store correlations and confidence intervals\n",
    "correlations = pd.DataFrame(index=pd.MultiIndex.from_product([grouped.groups.keys(), years], names=['ZipCode', 'Year_i']), columns=years)\n",
    "confidence_intervals = pd.DataFrame(index=pd.MultiIndex.from_product([grouped.groups.keys(), years], names=['ZipCode', 'Year_i']), columns=years)\n",
    "\n",
    "# Create subplots\n",
    "fig, axes = plt.subplots(len(years), len(years), figsize=(15, 15))\n",
    "fig.subplots_adjust(hspace=0.5, wspace=0.5)\n",
    "\n",
    "# Plot scatterplots and calculate correlations and confidence intervals for each zip code\n",
    "for zipcode, group in grouped:\n",
    "    for i, year_i in enumerate(years):\n",
    "        for j, year_j in enumerate(years):\n",
    "            if i != j:  # No need to plot a year against itself\n",
    "                x_data = group[group['Year'] == year_i]['calls_pct_change'].fillna(0).values\n",
    "                y_data = group[group['Year'] == year_j]['calls_pct_change'].fillna(0).values\n",
    "                \n",
    "                # Calculate correlation coefficient\n",
    "                if len(x_data) > 0 and len(y_data) > 0:  # Ensure there is data to correlate\n",
    "                    correlation, _ = spearmanr(x_data, y_data)\n",
    "                    ci_lower, ci_upper = bootstrap_confidence_interval(x_data, y_data)\n",
    "                    correlations.at[(zipcode, year_i), year_j] = correlation\n",
    "                    confidence_intervals.at[(zipcode, year_i), year_j] = f'[{ci_lower:.2f}, {ci_upper:.2f}]'\n",
    "                    \n",
    "                    if zipcode == list(grouped.groups.keys())[0]:  # Only plot for the first zip code\n",
    "                        axes[i, j].scatter(x_data, y_data, alpha=0.5)\n",
    "                        axes[i, j].set_xlabel(f'{year_i} (%)')\n",
    "                        axes[i, j].set_ylabel(f'{year_j} (%)')\n",
    "                        axes[i, j].set_title(f'{year_i} vs {year_j}\\nCorrelation: {correlation:.2f}\\nCI: [{ci_lower:.2f}, {ci_upper:.2f}]')\n",
    "\n",
    "# Remove diagonal subplots\n",
    "for i in range(len(years)):\n",
    "    for j in range(len(years)):\n",
    "        if i == j:\n",
    "            fig.delaxes(axes[i, j])\n",
    "plt.tight_layout()\n",
    "plt.show()\n",
    "\n",
    "# Display the correlation matrix\n",
    "print(\"Correlation Matrix:\")\n",
    "print(correlations)\n",
    "\n",
    "# Display the confidence intervals matrix\n",
    "print(\"\\nConfidence Intervals Matrix:\")\n",
    "print(confidence_intervals)\n",
    "\n"
   ]
  },
  {
   "cell_type": "code",
   "execution_count": null,
   "id": "c5372004-eeba-4297-adaa-670a5d4eb2f2",
   "metadata": {},
   "outputs": [],
   "source": []
  }
 ],
 "metadata": {
  "kernelspec": {
   "display_name": "Python 3 (ipykernel)",
   "language": "python",
   "name": "python3"
  },
  "language_info": {
   "codemirror_mode": {
    "name": "ipython",
    "version": 3
   },
   "file_extension": ".py",
   "mimetype": "text/x-python",
   "name": "python",
   "nbconvert_exporter": "python",
   "pygments_lexer": "ipython3",
   "version": "3.11.5"
  }
 },
 "nbformat": 4,
 "nbformat_minor": 5
}

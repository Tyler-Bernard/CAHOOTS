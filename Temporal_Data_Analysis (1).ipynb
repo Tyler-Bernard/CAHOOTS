{
 "cells": [
  {
   "cell_type": "code",
   "execution_count": null,
   "id": "4fb57e6f-c358-45a4-9622-44a9ca9e923a",
   "metadata": {},
   "outputs": [],
   "source": [
    "import pandas as pd\n",
    "import numpy as np\n",
    "import seaborn as sns\n",
    "import matplotlib.pyplot as plt\n",
    "import datetime\n",
    "from scipy import stats\n",
    "from scipy.stats import shapiro, probplot\n",
    "from sklearn.utils import resample\n",
    "from scipy.stats import spearmanr\n",
    "from matplotlib.colors import LinearSegmentedColormap"
   ]
  },
  {
   "cell_type": "markdown",
   "id": "271fb245-649f-48fc-976d-717e230298df",
   "metadata": {},
   "source": [
    "Load data"
   ]
  },
  {
   "cell_type": "code",
   "execution_count": 3,
   "id": "a4dd390a-fa45-41b6-a5df-30eacbcbd2c6",
   "metadata": {},
   "outputs": [
    {
     "ename": "FileNotFoundError",
     "evalue": "[Errno 2] No such file or directory: 'output.csv'",
     "output_type": "error",
     "traceback": [
      "\u001b[1;31m---------------------------------------------------------------------------\u001b[0m",
      "\u001b[1;31mFileNotFoundError\u001b[0m                         Traceback (most recent call last)",
      "Cell \u001b[1;32mIn[3], line 1\u001b[0m\n\u001b[1;32m----> 1\u001b[0m df \u001b[38;5;241m=\u001b[39m \u001b[43mpd\u001b[49m\u001b[38;5;241;43m.\u001b[39;49m\u001b[43mread_csv\u001b[49m\u001b[43m(\u001b[49m\u001b[38;5;124;43m\"\u001b[39;49m\u001b[38;5;124;43moutput.csv\u001b[39;49m\u001b[38;5;124;43m\"\u001b[39;49m\u001b[43m)\u001b[49m\n\u001b[0;32m      3\u001b[0m df[\u001b[38;5;124m'\u001b[39m\u001b[38;5;124mCall_Created_Time\u001b[39m\u001b[38;5;124m'\u001b[39m] \u001b[38;5;241m=\u001b[39m pd\u001b[38;5;241m.\u001b[39mto_datetime(df[\u001b[38;5;124m'\u001b[39m\u001b[38;5;124mCall_Created_Time\u001b[39m\u001b[38;5;124m'\u001b[39m])\n",
      "File \u001b[1;32m~\\miniconda3\\Lib\\site-packages\\pandas\\io\\parsers\\readers.py:1026\u001b[0m, in \u001b[0;36mread_csv\u001b[1;34m(filepath_or_buffer, sep, delimiter, header, names, index_col, usecols, dtype, engine, converters, true_values, false_values, skipinitialspace, skiprows, skipfooter, nrows, na_values, keep_default_na, na_filter, verbose, skip_blank_lines, parse_dates, infer_datetime_format, keep_date_col, date_parser, date_format, dayfirst, cache_dates, iterator, chunksize, compression, thousands, decimal, lineterminator, quotechar, quoting, doublequote, escapechar, comment, encoding, encoding_errors, dialect, on_bad_lines, delim_whitespace, low_memory, memory_map, float_precision, storage_options, dtype_backend)\u001b[0m\n\u001b[0;32m   1013\u001b[0m kwds_defaults \u001b[38;5;241m=\u001b[39m _refine_defaults_read(\n\u001b[0;32m   1014\u001b[0m     dialect,\n\u001b[0;32m   1015\u001b[0m     delimiter,\n\u001b[1;32m   (...)\u001b[0m\n\u001b[0;32m   1022\u001b[0m     dtype_backend\u001b[38;5;241m=\u001b[39mdtype_backend,\n\u001b[0;32m   1023\u001b[0m )\n\u001b[0;32m   1024\u001b[0m kwds\u001b[38;5;241m.\u001b[39mupdate(kwds_defaults)\n\u001b[1;32m-> 1026\u001b[0m \u001b[38;5;28;01mreturn\u001b[39;00m \u001b[43m_read\u001b[49m\u001b[43m(\u001b[49m\u001b[43mfilepath_or_buffer\u001b[49m\u001b[43m,\u001b[49m\u001b[43m \u001b[49m\u001b[43mkwds\u001b[49m\u001b[43m)\u001b[49m\n",
      "File \u001b[1;32m~\\miniconda3\\Lib\\site-packages\\pandas\\io\\parsers\\readers.py:620\u001b[0m, in \u001b[0;36m_read\u001b[1;34m(filepath_or_buffer, kwds)\u001b[0m\n\u001b[0;32m    617\u001b[0m _validate_names(kwds\u001b[38;5;241m.\u001b[39mget(\u001b[38;5;124m\"\u001b[39m\u001b[38;5;124mnames\u001b[39m\u001b[38;5;124m\"\u001b[39m, \u001b[38;5;28;01mNone\u001b[39;00m))\n\u001b[0;32m    619\u001b[0m \u001b[38;5;66;03m# Create the parser.\u001b[39;00m\n\u001b[1;32m--> 620\u001b[0m parser \u001b[38;5;241m=\u001b[39m \u001b[43mTextFileReader\u001b[49m\u001b[43m(\u001b[49m\u001b[43mfilepath_or_buffer\u001b[49m\u001b[43m,\u001b[49m\u001b[43m \u001b[49m\u001b[38;5;241;43m*\u001b[39;49m\u001b[38;5;241;43m*\u001b[39;49m\u001b[43mkwds\u001b[49m\u001b[43m)\u001b[49m\n\u001b[0;32m    622\u001b[0m \u001b[38;5;28;01mif\u001b[39;00m chunksize \u001b[38;5;129;01mor\u001b[39;00m iterator:\n\u001b[0;32m    623\u001b[0m     \u001b[38;5;28;01mreturn\u001b[39;00m parser\n",
      "File \u001b[1;32m~\\miniconda3\\Lib\\site-packages\\pandas\\io\\parsers\\readers.py:1620\u001b[0m, in \u001b[0;36mTextFileReader.__init__\u001b[1;34m(self, f, engine, **kwds)\u001b[0m\n\u001b[0;32m   1617\u001b[0m     \u001b[38;5;28mself\u001b[39m\u001b[38;5;241m.\u001b[39moptions[\u001b[38;5;124m\"\u001b[39m\u001b[38;5;124mhas_index_names\u001b[39m\u001b[38;5;124m\"\u001b[39m] \u001b[38;5;241m=\u001b[39m kwds[\u001b[38;5;124m\"\u001b[39m\u001b[38;5;124mhas_index_names\u001b[39m\u001b[38;5;124m\"\u001b[39m]\n\u001b[0;32m   1619\u001b[0m \u001b[38;5;28mself\u001b[39m\u001b[38;5;241m.\u001b[39mhandles: IOHandles \u001b[38;5;241m|\u001b[39m \u001b[38;5;28;01mNone\u001b[39;00m \u001b[38;5;241m=\u001b[39m \u001b[38;5;28;01mNone\u001b[39;00m\n\u001b[1;32m-> 1620\u001b[0m \u001b[38;5;28mself\u001b[39m\u001b[38;5;241m.\u001b[39m_engine \u001b[38;5;241m=\u001b[39m \u001b[38;5;28;43mself\u001b[39;49m\u001b[38;5;241;43m.\u001b[39;49m\u001b[43m_make_engine\u001b[49m\u001b[43m(\u001b[49m\u001b[43mf\u001b[49m\u001b[43m,\u001b[49m\u001b[43m \u001b[49m\u001b[38;5;28;43mself\u001b[39;49m\u001b[38;5;241;43m.\u001b[39;49m\u001b[43mengine\u001b[49m\u001b[43m)\u001b[49m\n",
      "File \u001b[1;32m~\\miniconda3\\Lib\\site-packages\\pandas\\io\\parsers\\readers.py:1880\u001b[0m, in \u001b[0;36mTextFileReader._make_engine\u001b[1;34m(self, f, engine)\u001b[0m\n\u001b[0;32m   1878\u001b[0m     \u001b[38;5;28;01mif\u001b[39;00m \u001b[38;5;124m\"\u001b[39m\u001b[38;5;124mb\u001b[39m\u001b[38;5;124m\"\u001b[39m \u001b[38;5;129;01mnot\u001b[39;00m \u001b[38;5;129;01min\u001b[39;00m mode:\n\u001b[0;32m   1879\u001b[0m         mode \u001b[38;5;241m+\u001b[39m\u001b[38;5;241m=\u001b[39m \u001b[38;5;124m\"\u001b[39m\u001b[38;5;124mb\u001b[39m\u001b[38;5;124m\"\u001b[39m\n\u001b[1;32m-> 1880\u001b[0m \u001b[38;5;28mself\u001b[39m\u001b[38;5;241m.\u001b[39mhandles \u001b[38;5;241m=\u001b[39m \u001b[43mget_handle\u001b[49m\u001b[43m(\u001b[49m\n\u001b[0;32m   1881\u001b[0m \u001b[43m    \u001b[49m\u001b[43mf\u001b[49m\u001b[43m,\u001b[49m\n\u001b[0;32m   1882\u001b[0m \u001b[43m    \u001b[49m\u001b[43mmode\u001b[49m\u001b[43m,\u001b[49m\n\u001b[0;32m   1883\u001b[0m \u001b[43m    \u001b[49m\u001b[43mencoding\u001b[49m\u001b[38;5;241;43m=\u001b[39;49m\u001b[38;5;28;43mself\u001b[39;49m\u001b[38;5;241;43m.\u001b[39;49m\u001b[43moptions\u001b[49m\u001b[38;5;241;43m.\u001b[39;49m\u001b[43mget\u001b[49m\u001b[43m(\u001b[49m\u001b[38;5;124;43m\"\u001b[39;49m\u001b[38;5;124;43mencoding\u001b[39;49m\u001b[38;5;124;43m\"\u001b[39;49m\u001b[43m,\u001b[49m\u001b[43m \u001b[49m\u001b[38;5;28;43;01mNone\u001b[39;49;00m\u001b[43m)\u001b[49m\u001b[43m,\u001b[49m\n\u001b[0;32m   1884\u001b[0m \u001b[43m    \u001b[49m\u001b[43mcompression\u001b[49m\u001b[38;5;241;43m=\u001b[39;49m\u001b[38;5;28;43mself\u001b[39;49m\u001b[38;5;241;43m.\u001b[39;49m\u001b[43moptions\u001b[49m\u001b[38;5;241;43m.\u001b[39;49m\u001b[43mget\u001b[49m\u001b[43m(\u001b[49m\u001b[38;5;124;43m\"\u001b[39;49m\u001b[38;5;124;43mcompression\u001b[39;49m\u001b[38;5;124;43m\"\u001b[39;49m\u001b[43m,\u001b[49m\u001b[43m \u001b[49m\u001b[38;5;28;43;01mNone\u001b[39;49;00m\u001b[43m)\u001b[49m\u001b[43m,\u001b[49m\n\u001b[0;32m   1885\u001b[0m \u001b[43m    \u001b[49m\u001b[43mmemory_map\u001b[49m\u001b[38;5;241;43m=\u001b[39;49m\u001b[38;5;28;43mself\u001b[39;49m\u001b[38;5;241;43m.\u001b[39;49m\u001b[43moptions\u001b[49m\u001b[38;5;241;43m.\u001b[39;49m\u001b[43mget\u001b[49m\u001b[43m(\u001b[49m\u001b[38;5;124;43m\"\u001b[39;49m\u001b[38;5;124;43mmemory_map\u001b[39;49m\u001b[38;5;124;43m\"\u001b[39;49m\u001b[43m,\u001b[49m\u001b[43m \u001b[49m\u001b[38;5;28;43;01mFalse\u001b[39;49;00m\u001b[43m)\u001b[49m\u001b[43m,\u001b[49m\n\u001b[0;32m   1886\u001b[0m \u001b[43m    \u001b[49m\u001b[43mis_text\u001b[49m\u001b[38;5;241;43m=\u001b[39;49m\u001b[43mis_text\u001b[49m\u001b[43m,\u001b[49m\n\u001b[0;32m   1887\u001b[0m \u001b[43m    \u001b[49m\u001b[43merrors\u001b[49m\u001b[38;5;241;43m=\u001b[39;49m\u001b[38;5;28;43mself\u001b[39;49m\u001b[38;5;241;43m.\u001b[39;49m\u001b[43moptions\u001b[49m\u001b[38;5;241;43m.\u001b[39;49m\u001b[43mget\u001b[49m\u001b[43m(\u001b[49m\u001b[38;5;124;43m\"\u001b[39;49m\u001b[38;5;124;43mencoding_errors\u001b[39;49m\u001b[38;5;124;43m\"\u001b[39;49m\u001b[43m,\u001b[49m\u001b[43m \u001b[49m\u001b[38;5;124;43m\"\u001b[39;49m\u001b[38;5;124;43mstrict\u001b[39;49m\u001b[38;5;124;43m\"\u001b[39;49m\u001b[43m)\u001b[49m\u001b[43m,\u001b[49m\n\u001b[0;32m   1888\u001b[0m \u001b[43m    \u001b[49m\u001b[43mstorage_options\u001b[49m\u001b[38;5;241;43m=\u001b[39;49m\u001b[38;5;28;43mself\u001b[39;49m\u001b[38;5;241;43m.\u001b[39;49m\u001b[43moptions\u001b[49m\u001b[38;5;241;43m.\u001b[39;49m\u001b[43mget\u001b[49m\u001b[43m(\u001b[49m\u001b[38;5;124;43m\"\u001b[39;49m\u001b[38;5;124;43mstorage_options\u001b[39;49m\u001b[38;5;124;43m\"\u001b[39;49m\u001b[43m,\u001b[49m\u001b[43m \u001b[49m\u001b[38;5;28;43;01mNone\u001b[39;49;00m\u001b[43m)\u001b[49m\u001b[43m,\u001b[49m\n\u001b[0;32m   1889\u001b[0m \u001b[43m\u001b[49m\u001b[43m)\u001b[49m\n\u001b[0;32m   1890\u001b[0m \u001b[38;5;28;01massert\u001b[39;00m \u001b[38;5;28mself\u001b[39m\u001b[38;5;241m.\u001b[39mhandles \u001b[38;5;129;01mis\u001b[39;00m \u001b[38;5;129;01mnot\u001b[39;00m \u001b[38;5;28;01mNone\u001b[39;00m\n\u001b[0;32m   1891\u001b[0m f \u001b[38;5;241m=\u001b[39m \u001b[38;5;28mself\u001b[39m\u001b[38;5;241m.\u001b[39mhandles\u001b[38;5;241m.\u001b[39mhandle\n",
      "File \u001b[1;32m~\\miniconda3\\Lib\\site-packages\\pandas\\io\\common.py:873\u001b[0m, in \u001b[0;36mget_handle\u001b[1;34m(path_or_buf, mode, encoding, compression, memory_map, is_text, errors, storage_options)\u001b[0m\n\u001b[0;32m    868\u001b[0m \u001b[38;5;28;01melif\u001b[39;00m \u001b[38;5;28misinstance\u001b[39m(handle, \u001b[38;5;28mstr\u001b[39m):\n\u001b[0;32m    869\u001b[0m     \u001b[38;5;66;03m# Check whether the filename is to be opened in binary mode.\u001b[39;00m\n\u001b[0;32m    870\u001b[0m     \u001b[38;5;66;03m# Binary mode does not support 'encoding' and 'newline'.\u001b[39;00m\n\u001b[0;32m    871\u001b[0m     \u001b[38;5;28;01mif\u001b[39;00m ioargs\u001b[38;5;241m.\u001b[39mencoding \u001b[38;5;129;01mand\u001b[39;00m \u001b[38;5;124m\"\u001b[39m\u001b[38;5;124mb\u001b[39m\u001b[38;5;124m\"\u001b[39m \u001b[38;5;129;01mnot\u001b[39;00m \u001b[38;5;129;01min\u001b[39;00m ioargs\u001b[38;5;241m.\u001b[39mmode:\n\u001b[0;32m    872\u001b[0m         \u001b[38;5;66;03m# Encoding\u001b[39;00m\n\u001b[1;32m--> 873\u001b[0m         handle \u001b[38;5;241m=\u001b[39m \u001b[38;5;28;43mopen\u001b[39;49m\u001b[43m(\u001b[49m\n\u001b[0;32m    874\u001b[0m \u001b[43m            \u001b[49m\u001b[43mhandle\u001b[49m\u001b[43m,\u001b[49m\n\u001b[0;32m    875\u001b[0m \u001b[43m            \u001b[49m\u001b[43mioargs\u001b[49m\u001b[38;5;241;43m.\u001b[39;49m\u001b[43mmode\u001b[49m\u001b[43m,\u001b[49m\n\u001b[0;32m    876\u001b[0m \u001b[43m            \u001b[49m\u001b[43mencoding\u001b[49m\u001b[38;5;241;43m=\u001b[39;49m\u001b[43mioargs\u001b[49m\u001b[38;5;241;43m.\u001b[39;49m\u001b[43mencoding\u001b[49m\u001b[43m,\u001b[49m\n\u001b[0;32m    877\u001b[0m \u001b[43m            \u001b[49m\u001b[43merrors\u001b[49m\u001b[38;5;241;43m=\u001b[39;49m\u001b[43merrors\u001b[49m\u001b[43m,\u001b[49m\n\u001b[0;32m    878\u001b[0m \u001b[43m            \u001b[49m\u001b[43mnewline\u001b[49m\u001b[38;5;241;43m=\u001b[39;49m\u001b[38;5;124;43m\"\u001b[39;49m\u001b[38;5;124;43m\"\u001b[39;49m\u001b[43m,\u001b[49m\n\u001b[0;32m    879\u001b[0m \u001b[43m        \u001b[49m\u001b[43m)\u001b[49m\n\u001b[0;32m    880\u001b[0m     \u001b[38;5;28;01melse\u001b[39;00m:\n\u001b[0;32m    881\u001b[0m         \u001b[38;5;66;03m# Binary mode\u001b[39;00m\n\u001b[0;32m    882\u001b[0m         handle \u001b[38;5;241m=\u001b[39m \u001b[38;5;28mopen\u001b[39m(handle, ioargs\u001b[38;5;241m.\u001b[39mmode)\n",
      "\u001b[1;31mFileNotFoundError\u001b[0m: [Errno 2] No such file or directory: 'output.csv'"
     ]
    }
   ],
   "source": [
    "df = pd.read_csv(\"output.csv\")\n",
    "\n",
    "df['Call_Created_Time'] = pd.to_datetime(df['Call_Created_Time'])\n"
   ]
  },
  {
   "cell_type": "code",
   "execution_count": 4,
   "id": "b5470e77-244e-4c79-8fe5-4f6eb9808ac6",
   "metadata": {},
   "outputs": [],
   "source": [
    "# df['Hour'] = df['Call_Created_Time'].dt.hour\n",
    "# df['Year'] = df['Call_Created_Time'].dt.year\n",
    "# df['Month'] = df['Call_Created_Time'].dt.month"
   ]
  },
  {
   "cell_type": "markdown",
   "id": "d78734ad-d11e-4668-bae4-e21854ff8ebd",
   "metadata": {},
   "source": [
    "Plot by year for call start time & statistics"
   ]
  },
  {
   "cell_type": "code",
   "execution_count": 5,
   "id": "13585ea5-9529-4caa-b1ec-92b650ab8dc7",
   "metadata": {},
   "outputs": [
    {
     "ename": "NameError",
     "evalue": "name 'df' is not defined",
     "output_type": "error",
     "traceback": [
      "\u001b[1;31m---------------------------------------------------------------------------\u001b[0m",
      "\u001b[1;31mNameError\u001b[0m                                 Traceback (most recent call last)",
      "Cell \u001b[1;32mIn[5], line 2\u001b[0m\n\u001b[0;32m      1\u001b[0m \u001b[38;5;66;03m# Group by year and count the number of calls per year\u001b[39;00m\n\u001b[1;32m----> 2\u001b[0m calls_per_year \u001b[38;5;241m=\u001b[39m \u001b[43mdf\u001b[49m\u001b[38;5;241m.\u001b[39mgroupby(\u001b[38;5;124m'\u001b[39m\u001b[38;5;124mYear\u001b[39m\u001b[38;5;124m'\u001b[39m)\u001b[38;5;241m.\u001b[39msize()\u001b[38;5;241m.\u001b[39mreset_index(name\u001b[38;5;241m=\u001b[39m\u001b[38;5;124m'\u001b[39m\u001b[38;5;124mCall_Count\u001b[39m\u001b[38;5;124m'\u001b[39m)\n\u001b[0;32m      4\u001b[0m \u001b[38;5;66;03m# Sort the counts to find the second smallest\u001b[39;00m\n\u001b[0;32m      5\u001b[0m sorted_counts \u001b[38;5;241m=\u001b[39m calls_per_year[\u001b[38;5;124m'\u001b[39m\u001b[38;5;124mCall_Count\u001b[39m\u001b[38;5;124m'\u001b[39m]\u001b[38;5;241m.\u001b[39msort_values()\n",
      "\u001b[1;31mNameError\u001b[0m: name 'df' is not defined"
     ]
    }
   ],
   "source": [
    "\n",
    "# Group by year and count the number of calls per year\n",
    "calls_per_year = df.groupby('Year').size().reset_index(name='Call_Count')\n",
    "\n",
    "# Sort the counts to find the second smallest\n",
    "sorted_counts = calls_per_year['Call_Count'].sort_values()\n",
    "\n",
    "# Calculate descriptive statistics for the count of calls\n",
    "count_min = sorted_counts.iloc[0]\n",
    "# second_count_min = sorted_counts.iloc[1]  #not necessary in analysis\n",
    "count_max = sorted_counts.max()\n",
    "count_mean = sorted_counts.mean()\n",
    "count_std = sorted_counts.std()\n",
    "\n",
    "\n",
    "print(f\"Minimum Calls in a Year: {count_min}\")\n",
    "# print(f\"Second Minimum Calls in a Year: {second_count_min}\")\n",
    "print(f\"Maximum Calls in a Year: {count_max}\")\n",
    "print(f\"Mean Calls per Year: {count_mean:.2f}\")\n",
    "print(f\"Standard Deviation Calls per Year: {count_std:.2f}\")\n",
    "\n",
    "# Plot the distribution of calls per year\n",
    "plt.figure(figsize=(12, 6))\n",
    "sns.barplot(x='Year', y='Call_Count', data=calls_per_year, color='blue', alpha=0.6)\n",
    "\n",
    "# Add a horizontal line for the mean\n",
    "plt.axhline(y=count_mean, color='red', linestyle='--', label=f'Mean ({count_mean:.2f})')\n",
    "\n",
    "plt.title('Distribution of Calls by Year with Trend Line')\n",
    "plt.xlabel('Year')\n",
    "plt.ylabel('Number of Calls')\n",
    "plt.legend()\n",
    "plt.show()"
   ]
  },
  {
   "cell_type": "markdown",
   "id": "c4e46f0a-d1e9-4d48-b5af-99069e570490",
   "metadata": {},
   "source": [
    "Plot by month for call start time & statistics"
   ]
  },
  {
   "cell_type": "code",
   "execution_count": 6,
   "id": "ce4a3fa1-4dbf-4e66-b175-2d2e10c7c248",
   "metadata": {},
   "outputs": [
    {
     "ename": "NameError",
     "evalue": "name 'df' is not defined",
     "output_type": "error",
     "traceback": [
      "\u001b[1;31m---------------------------------------------------------------------------\u001b[0m",
      "\u001b[1;31mNameError\u001b[0m                                 Traceback (most recent call last)",
      "Cell \u001b[1;32mIn[6], line 2\u001b[0m\n\u001b[0;32m      1\u001b[0m \u001b[38;5;66;03m# Groups the data by month and counts the number of calls per month.\u001b[39;00m\n\u001b[1;32m----> 2\u001b[0m calls_per_month \u001b[38;5;241m=\u001b[39m \u001b[43mdf\u001b[49m\u001b[38;5;241m.\u001b[39mgroupby(\u001b[38;5;124m'\u001b[39m\u001b[38;5;124mMonth\u001b[39m\u001b[38;5;124m'\u001b[39m)\u001b[38;5;241m.\u001b[39msize()\u001b[38;5;241m.\u001b[39mreset_index(name\u001b[38;5;241m=\u001b[39m\u001b[38;5;124m'\u001b[39m\u001b[38;5;124mCall_Count\u001b[39m\u001b[38;5;124m'\u001b[39m)\n\u001b[0;32m      4\u001b[0m \u001b[38;5;66;03m# Sort the counts for consistency\u001b[39;00m\n\u001b[0;32m      5\u001b[0m sorted_counts \u001b[38;5;241m=\u001b[39m calls_per_month[\u001b[38;5;124m'\u001b[39m\u001b[38;5;124mCall_Count\u001b[39m\u001b[38;5;124m'\u001b[39m]\u001b[38;5;241m.\u001b[39msort_values()\n",
      "\u001b[1;31mNameError\u001b[0m: name 'df' is not defined"
     ]
    }
   ],
   "source": [
    "\n",
    "# Groups the data by month and counts the number of calls per month.\n",
    "calls_per_month = df.groupby('Month').size().reset_index(name='Call_Count')\n",
    "\n",
    "# Sort the counts for consistency\n",
    "sorted_counts = calls_per_month['Call_Count'].sort_values()\n",
    "\n",
    "# Calculate descriptive statistics for the count of calls\n",
    "count_min = sorted_counts.iloc[0]\n",
    "count_max = sorted_counts.max()\n",
    "count_mean = sorted_counts.mean()\n",
    "count_std = sorted_counts.std()\n",
    "\n",
    "print(f\"Minimum Calls in a Month: {count_min}\")\n",
    "print(f\"Maximum Calls in a Month: {count_max}\")\n",
    "print(f\"Mean Calls per Month: {count_mean:.2f}\")\n",
    "print(f\"Standard Deviation Calls per Month: {count_std:.2f}\")\n",
    "\n",
    "# Plot the distribution of calls per month\n",
    "plt.figure(figsize=(12, 6))\n",
    "sns.countplot(x='Month', data=df)\n",
    "\n",
    "\n",
    "# Add a horizontal line for the mean\n",
    "plt.axhline(y=count_mean, color='red', linestyle='--', label=f'Mean ({count_mean:.2f})')\n",
    "plt.title('Distribution of Calls by Month')\n",
    "plt.xlabel('Month')\n",
    "plt.ylabel('Number of Calls')\n",
    "plt.show()"
   ]
  },
  {
   "cell_type": "markdown",
   "id": "467f7a69-bdca-4136-a1f4-648354252f22",
   "metadata": {},
   "source": [
    "Plot by hour for call start time & statistics"
   ]
  },
  {
   "cell_type": "code",
   "execution_count": 7,
   "id": "8ce66ea5-5410-4d0d-bb9f-208e82a58f56",
   "metadata": {},
   "outputs": [
    {
     "ename": "NameError",
     "evalue": "name 'df' is not defined",
     "output_type": "error",
     "traceback": [
      "\u001b[1;31m---------------------------------------------------------------------------\u001b[0m",
      "\u001b[1;31mNameError\u001b[0m                                 Traceback (most recent call last)",
      "Cell \u001b[1;32mIn[7], line 2\u001b[0m\n\u001b[0;32m      1\u001b[0m \u001b[38;5;66;03m# Group by hour and count the number of calls per hour\u001b[39;00m\n\u001b[1;32m----> 2\u001b[0m calls_per_hour \u001b[38;5;241m=\u001b[39m \u001b[43mdf\u001b[49m\u001b[38;5;241m.\u001b[39mgroupby(\u001b[38;5;124m'\u001b[39m\u001b[38;5;124mHour\u001b[39m\u001b[38;5;124m'\u001b[39m)\u001b[38;5;241m.\u001b[39msize()\u001b[38;5;241m.\u001b[39mreset_index(name\u001b[38;5;241m=\u001b[39m\u001b[38;5;124m'\u001b[39m\u001b[38;5;124mCall_Count\u001b[39m\u001b[38;5;124m'\u001b[39m)\n\u001b[0;32m      4\u001b[0m \u001b[38;5;66;03m# Sort the counts for consistency\u001b[39;00m\n\u001b[0;32m      5\u001b[0m sorted_counts \u001b[38;5;241m=\u001b[39m calls_per_hour[\u001b[38;5;124m'\u001b[39m\u001b[38;5;124mCall_Count\u001b[39m\u001b[38;5;124m'\u001b[39m]\u001b[38;5;241m.\u001b[39msort_values()\n",
      "\u001b[1;31mNameError\u001b[0m: name 'df' is not defined"
     ]
    }
   ],
   "source": [
    "\n",
    "# Group by hour and count the number of calls per hour\n",
    "calls_per_hour = df.groupby('Hour').size().reset_index(name='Call_Count')\n",
    "\n",
    "# Sort the counts for consistency\n",
    "sorted_counts = calls_per_hour['Call_Count'].sort_values()\n",
    "\n",
    "# Calculate descriptive statistics for the count of calls\n",
    "count_min = sorted_counts.iloc[0]\n",
    "count_max = sorted_counts.max()\n",
    "count_mean = sorted_counts.mean()\n",
    "count_std = sorted_counts.std()\n",
    "\n",
    "print(f\"Minimum Calls in a Hour: {count_min}\")\n",
    "print(f\"Maximum Calls in a Hour: {count_max}\")\n",
    "print(f\"Mean Calls per Hour: {count_mean:.2f}\")\n",
    "print(f\"Standard Deviation Calls per Hour: {count_std:.2f}\")\n",
    "# Plot the distribution of calls per hour\n",
    "plt.figure(figsize=(12, 6))\n",
    "sns.countplot(x='Hour', data=df)\n",
    "# Add a horizontal line for the mean\n",
    "plt.axhline(y=count_mean, color='red', linestyle='--', label=f'Mean ({count_mean:.2f})')\n",
    "plt.title('Distribution of Calls by Hour of the Day')\n",
    "plt.xlabel('Hour of the Day')\n",
    "plt.ylabel('Number of Calls')\n",
    "plt.show()"
   ]
  },
  {
   "cell_type": "markdown",
   "id": "1b8819c2-2eaa-46d1-b35d-edc7f7f0326d",
   "metadata": {},
   "source": [
    "All together over hour by year"
   ]
  },
  {
   "cell_type": "code",
   "execution_count": 8,
   "id": "97bd4318-91ed-4550-99bf-c3c43ec82a76",
   "metadata": {},
   "outputs": [
    {
     "ename": "NameError",
     "evalue": "name 'df' is not defined",
     "output_type": "error",
     "traceback": [
      "\u001b[1;31m---------------------------------------------------------------------------\u001b[0m",
      "\u001b[1;31mNameError\u001b[0m                                 Traceback (most recent call last)",
      "Cell \u001b[1;32mIn[8], line 2\u001b[0m\n\u001b[0;32m      1\u001b[0m \u001b[38;5;66;03m#Groups the data by hour and year, then plots the distribution of calls by hour for each year as a line plot. The years 2022 and 2023 are excluded.\u001b[39;00m\n\u001b[1;32m----> 2\u001b[0m calls_by_hour_year \u001b[38;5;241m=\u001b[39m \u001b[43mdf\u001b[49m\u001b[38;5;241m.\u001b[39mgroupby([\u001b[38;5;124m'\u001b[39m\u001b[38;5;124mHour\u001b[39m\u001b[38;5;124m'\u001b[39m, \u001b[38;5;124m'\u001b[39m\u001b[38;5;124mYear\u001b[39m\u001b[38;5;124m'\u001b[39m])\u001b[38;5;241m.\u001b[39msize()\u001b[38;5;241m.\u001b[39mreset_index(name\u001b[38;5;241m=\u001b[39m\u001b[38;5;124m'\u001b[39m\u001b[38;5;124mCall_Count\u001b[39m\u001b[38;5;124m'\u001b[39m)\n\u001b[0;32m      4\u001b[0m \u001b[38;5;66;03m#Color coding rainbow for sequential analysis\u001b[39;00m\n\u001b[0;32m      5\u001b[0m colors \u001b[38;5;241m=\u001b[39m [\u001b[38;5;124m\"\u001b[39m\u001b[38;5;124mred\u001b[39m\u001b[38;5;124m\"\u001b[39m, \u001b[38;5;124m\"\u001b[39m\u001b[38;5;124morange\u001b[39m\u001b[38;5;124m\"\u001b[39m, \u001b[38;5;124m\"\u001b[39m\u001b[38;5;124myellow\u001b[39m\u001b[38;5;124m\"\u001b[39m, \u001b[38;5;124m\"\u001b[39m\u001b[38;5;124mgreen\u001b[39m\u001b[38;5;124m\"\u001b[39m, \u001b[38;5;124m\"\u001b[39m\u001b[38;5;124mblue\u001b[39m\u001b[38;5;124m\"\u001b[39m, \u001b[38;5;124m\"\u001b[39m\u001b[38;5;124mindigo\u001b[39m\u001b[38;5;124m\"\u001b[39m]\n",
      "\u001b[1;31mNameError\u001b[0m: name 'df' is not defined"
     ]
    }
   ],
   "source": [
    "#Groups the data by hour and year, then plots the distribution of calls by hour for each year as a line plot. The years 2022 and 2023 are excluded.\n",
    "calls_by_hour_year = df.groupby(['Hour', 'Year']).size().reset_index(name='Call_Count')\n",
    "\n",
    "#Color coding rainbow for sequential analysis\n",
    "colors = [\"red\", \"orange\", \"yellow\", \"green\", \"blue\", \"indigo\"]\n",
    "rainbow_cmap = LinearSegmentedColormap.from_list(\"\", colors)\n",
    "# Create the line plot\n",
    "plt.figure(figsize=(12, 6))\n",
    "sns.lineplot(x='Hour', y='Call_Count',hue=\"Year\",palette=rainbow_cmap, data=calls_by_hour_year, marker='o')\n",
    "plt.xticks(range(0, 24))\n",
    "plt.title('Distribution of Calls by Hour for Specific Units (by Year)')\n",
    "plt.xlabel('Hour')\n",
    "plt.ylabel('Number of Calls')\n",
    "plt.legend(title='Year')\n",
    "plt.grid(True)\n",
    "plt.show()"
   ]
  },
  {
   "cell_type": "code",
   "execution_count": 9,
   "id": "cea38a5f-e7f9-410a-89da-9c0d41101ca2",
   "metadata": {},
   "outputs": [
    {
     "ename": "NameError",
     "evalue": "name 'df' is not defined",
     "output_type": "error",
     "traceback": [
      "\u001b[1;31m---------------------------------------------------------------------------\u001b[0m",
      "\u001b[1;31mNameError\u001b[0m                                 Traceback (most recent call last)",
      "Cell \u001b[1;32mIn[9], line 2\u001b[0m\n\u001b[0;32m      1\u001b[0m \u001b[38;5;66;03m# Group the filtered data by year and month and count the number of calls\u001b[39;00m\n\u001b[1;32m----> 2\u001b[0m calls_by_year_hour_filtered \u001b[38;5;241m=\u001b[39m \u001b[43mdf\u001b[49m[\u001b[38;5;241m~\u001b[39mdf[\u001b[38;5;124m'\u001b[39m\u001b[38;5;124mYear\u001b[39m\u001b[38;5;124m'\u001b[39m]\u001b[38;5;241m.\u001b[39misin([\u001b[38;5;241m2022\u001b[39m, \u001b[38;5;241m2023\u001b[39m])]\u001b[38;5;241m.\u001b[39mgroupby([\u001b[38;5;124m'\u001b[39m\u001b[38;5;124mYear\u001b[39m\u001b[38;5;124m'\u001b[39m, \u001b[38;5;124m'\u001b[39m\u001b[38;5;124mHour\u001b[39m\u001b[38;5;124m'\u001b[39m])\u001b[38;5;241m.\u001b[39msize()\n\u001b[0;32m      4\u001b[0m \u001b[38;5;66;03m# Calculate the standard deviation of calls for each month across different years\u001b[39;00m\n\u001b[0;32m      5\u001b[0m std_calls_by_hour_year_filtered \u001b[38;5;241m=\u001b[39m calls_by_year_hour_filtered\u001b[38;5;241m.\u001b[39mgroupby(level\u001b[38;5;241m=\u001b[39m[\u001b[38;5;241m1\u001b[39m])\u001b[38;5;241m.\u001b[39mstd()\u001b[38;5;241m.\u001b[39mfillna(\u001b[38;5;241m0\u001b[39m)\n",
      "\u001b[1;31mNameError\u001b[0m: name 'df' is not defined"
     ]
    }
   ],
   "source": [
    "# Group the filtered data by year and month and count the number of calls\n",
    "calls_by_year_hour_filtered = df[~df['Year'].isin([2022, 2023])].groupby(['Year', 'Hour']).size()\n",
    "\n",
    "# Calculate the standard deviation of calls for each month across different years\n",
    "std_calls_by_hour_year_filtered = calls_by_year_hour_filtered.groupby(level=[1]).std().fillna(0)\n",
    "\n",
    "print(\"Standard Deviation of Calls by Hour and Year (Excluding 2022 and 2023):\")\n",
    "print(std_calls_by_hour_year_filtered)"
   ]
  },
  {
   "cell_type": "markdown",
   "id": "4432bd08-72a3-4562-8d0a-208bb3fd045a",
   "metadata": {},
   "source": [
    "The most variable hours are 2PM, 12PM, 1PM, and 9AM. The most consistent hours are 12AM, 10AM,4PM, and 5PM. In order.\r\n",
    "\r\n"
   ]
  },
  {
   "cell_type": "markdown",
   "id": "5ff8c136-4ef7-4317-a57a-3ff2be3ec54b",
   "metadata": {},
   "source": [
    "All together over month by year"
   ]
  },
  {
   "cell_type": "code",
   "execution_count": 10,
   "id": "674690ff-4da5-474c-92a9-ecf48bb64cc8",
   "metadata": {},
   "outputs": [
    {
     "ename": "NameError",
     "evalue": "name 'df' is not defined",
     "output_type": "error",
     "traceback": [
      "\u001b[1;31m---------------------------------------------------------------------------\u001b[0m",
      "\u001b[1;31mNameError\u001b[0m                                 Traceback (most recent call last)",
      "Cell \u001b[1;32mIn[10], line 2\u001b[0m\n\u001b[0;32m      1\u001b[0m \u001b[38;5;66;03m#Groups the data by hour and year, then plots the distribution of calls by hour for each year as a line plot. The years 2022 and 2023 are excluded.\u001b[39;00m\n\u001b[1;32m----> 2\u001b[0m calls_by_month_year \u001b[38;5;241m=\u001b[39m \u001b[43mdf\u001b[49m\u001b[38;5;241m.\u001b[39mgroupby([\u001b[38;5;124m'\u001b[39m\u001b[38;5;124mMonth\u001b[39m\u001b[38;5;124m'\u001b[39m, \u001b[38;5;124m'\u001b[39m\u001b[38;5;124mYear\u001b[39m\u001b[38;5;124m'\u001b[39m])\u001b[38;5;241m.\u001b[39msize()\u001b[38;5;241m.\u001b[39mreset_index(name\u001b[38;5;241m=\u001b[39m\u001b[38;5;124m'\u001b[39m\u001b[38;5;124mCall_Count\u001b[39m\u001b[38;5;124m'\u001b[39m)\n\u001b[0;32m      4\u001b[0m \u001b[38;5;66;03m#Same color mapping as above\u001b[39;00m\n\u001b[0;32m      5\u001b[0m colors \u001b[38;5;241m=\u001b[39m [\u001b[38;5;124m\"\u001b[39m\u001b[38;5;124mred\u001b[39m\u001b[38;5;124m\"\u001b[39m, \u001b[38;5;124m\"\u001b[39m\u001b[38;5;124morange\u001b[39m\u001b[38;5;124m\"\u001b[39m, \u001b[38;5;124m\"\u001b[39m\u001b[38;5;124myellow\u001b[39m\u001b[38;5;124m\"\u001b[39m, \u001b[38;5;124m\"\u001b[39m\u001b[38;5;124mgreen\u001b[39m\u001b[38;5;124m\"\u001b[39m, \u001b[38;5;124m\"\u001b[39m\u001b[38;5;124mblue\u001b[39m\u001b[38;5;124m\"\u001b[39m, \u001b[38;5;124m\"\u001b[39m\u001b[38;5;124mindigo\u001b[39m\u001b[38;5;124m\"\u001b[39m]\n",
      "\u001b[1;31mNameError\u001b[0m: name 'df' is not defined"
     ]
    }
   ],
   "source": [
    "#Groups the data by hour and year, then plots the distribution of calls by hour for each year as a line plot. The years 2022 and 2023 are excluded.\n",
    "calls_by_month_year = df.groupby(['Month', 'Year']).size().reset_index(name='Call_Count')\n",
    "\n",
    "#Same color mapping as above\n",
    "colors = [\"red\", \"orange\", \"yellow\", \"green\", \"blue\", \"indigo\"]\n",
    "rainbow_cmap = LinearSegmentedColormap.from_list(\"\", colors)\n",
    "\n",
    "# Create the line plot\n",
    "plt.figure(figsize=(12, 6))\n",
    "sns.lineplot(x='Month', y='Call_Count',hue=\"Year\",palette=rainbow_cmap, data=calls_by_month_year, marker='o')\n",
    "plt.title('Distribution of Calls by Month for Specific Units (by Year)')\n",
    "plt.xlabel('Month')\n",
    "plt.ylabel('Number of Calls')\n",
    "plt.legend(title='Year')\n",
    "plt.grid(True)\n",
    "plt.show()"
   ]
  },
  {
   "cell_type": "code",
   "execution_count": 11,
   "id": "03c3a94e-57a6-4e7b-a763-21730146576e",
   "metadata": {},
   "outputs": [
    {
     "ename": "NameError",
     "evalue": "name 'df' is not defined",
     "output_type": "error",
     "traceback": [
      "\u001b[1;31m---------------------------------------------------------------------------\u001b[0m",
      "\u001b[1;31mNameError\u001b[0m                                 Traceback (most recent call last)",
      "Cell \u001b[1;32mIn[11], line 2\u001b[0m\n\u001b[0;32m      1\u001b[0m \u001b[38;5;66;03m# Group the filtered data by year and month and count the number of calls\u001b[39;00m\n\u001b[1;32m----> 2\u001b[0m calls_by_year_month_filtered \u001b[38;5;241m=\u001b[39m \u001b[43mdf\u001b[49m\u001b[38;5;241m.\u001b[39mgroupby([\u001b[38;5;124m'\u001b[39m\u001b[38;5;124mYear\u001b[39m\u001b[38;5;124m'\u001b[39m, \u001b[38;5;124m'\u001b[39m\u001b[38;5;124mMonth\u001b[39m\u001b[38;5;124m'\u001b[39m])\u001b[38;5;241m.\u001b[39msize()\n\u001b[0;32m      4\u001b[0m \u001b[38;5;66;03m# Calculate the standard deviation of calls for each month across different years\u001b[39;00m\n\u001b[0;32m      5\u001b[0m std_calls_by_month_year_filtered \u001b[38;5;241m=\u001b[39m calls_by_year_month_filtered\u001b[38;5;241m.\u001b[39mgroupby(level\u001b[38;5;241m=\u001b[39m[\u001b[38;5;241m1\u001b[39m])\u001b[38;5;241m.\u001b[39mstd()\u001b[38;5;241m.\u001b[39mfillna(\u001b[38;5;241m0\u001b[39m)\n",
      "\u001b[1;31mNameError\u001b[0m: name 'df' is not defined"
     ]
    }
   ],
   "source": [
    "# Group the filtered data by year and month and count the number of calls\n",
    "calls_by_year_month_filtered = df.groupby(['Year', 'Month']).size()\n",
    "\n",
    "# Calculate the standard deviation of calls for each month across different years\n",
    "std_calls_by_month_year_filtered = calls_by_year_month_filtered.groupby(level=[1]).std().fillna(0)\n",
    "\n",
    "print(\"Standard Deviation of Calls by Month and Year (Excluding 2022 and 2023):\")\n",
    "print(std_calls_by_month_year_filtered)"
   ]
  },
  {
   "cell_type": "markdown",
   "id": "5a147e86-97bb-4a11-bced-43d23693f274",
   "metadata": {},
   "source": [
    "The most variable months are Feb, Jul, Nov, and December. The most consistent months are Jan,Jun,May, and August. In order."
   ]
  },
  {
   "cell_type": "markdown",
   "id": "c4ccc5a6-2a5d-4cb9-9f55-51560753a30e",
   "metadata": {},
   "source": [
    "July and late afternoon are times of interest, looking at them further:"
   ]
  },
  {
   "cell_type": "code",
   "execution_count": 12,
   "id": "d3b4579f-360b-4cd0-ad67-1ed11bfd3d78",
   "metadata": {},
   "outputs": [
    {
     "ename": "NameError",
     "evalue": "name 'df' is not defined",
     "output_type": "error",
     "traceback": [
      "\u001b[1;31m---------------------------------------------------------------------------\u001b[0m",
      "\u001b[1;31mNameError\u001b[0m                                 Traceback (most recent call last)",
      "Cell \u001b[1;32mIn[12], line 2\u001b[0m\n\u001b[0;32m      1\u001b[0m \u001b[38;5;66;03m# Filter the data for the month of July\u001b[39;00m\n\u001b[1;32m----> 2\u001b[0m july_data \u001b[38;5;241m=\u001b[39m \u001b[43mdf\u001b[49m[df[\u001b[38;5;124m'\u001b[39m\u001b[38;5;124mMonth\u001b[39m\u001b[38;5;124m'\u001b[39m] \u001b[38;5;241m==\u001b[39m \u001b[38;5;241m7\u001b[39m]\n\u001b[0;32m      4\u001b[0m \u001b[38;5;66;03m# Group by hour and year, and count the number of calls\u001b[39;00m\n\u001b[0;32m      5\u001b[0m calls_by_hour_year_2 \u001b[38;5;241m=\u001b[39m july_data\u001b[38;5;241m.\u001b[39mgroupby([\u001b[38;5;124m'\u001b[39m\u001b[38;5;124mHour\u001b[39m\u001b[38;5;124m'\u001b[39m, \u001b[38;5;124m'\u001b[39m\u001b[38;5;124mYear\u001b[39m\u001b[38;5;124m'\u001b[39m])\u001b[38;5;241m.\u001b[39msize()\u001b[38;5;241m.\u001b[39mreset_index(name\u001b[38;5;241m=\u001b[39m\u001b[38;5;124m'\u001b[39m\u001b[38;5;124mCall_Count\u001b[39m\u001b[38;5;124m'\u001b[39m)\n",
      "\u001b[1;31mNameError\u001b[0m: name 'df' is not defined"
     ]
    }
   ],
   "source": [
    "# Filter the data for the month of July\n",
    "july_data = df[df['Month'] == 7]\n",
    "\n",
    "# Group by hour and year, and count the number of calls\n",
    "calls_by_hour_year_2 = july_data.groupby(['Hour', 'Year']).size().reset_index(name='Call_Count')\n",
    "\n",
    "# Create the line plot\n",
    "plt.figure(figsize=(12, 6))\n",
    "sns.lineplot(x='Hour', y='Call_Count', hue='Year',palette=rainbow_cmap, data=calls_by_hour_year_2[~calls_by_hour_year_2['Year'].isin([2022, 2023])], marker='o')\n",
    "plt.xticks(range(0, 24))\n",
    "plt.title('Distribution of Calls by Hour for July (by Year)')\n",
    "plt.xlabel('Hour of the Day')\n",
    "plt.ylabel('Number of Calls')\n",
    "plt.legend(title='Year')\n",
    "plt.grid(True)\n",
    "plt.show()"
   ]
  },
  {
   "cell_type": "markdown",
   "id": "8df7791b-d8c0-4ff0-acb4-b4ec1cf478b2",
   "metadata": {},
   "source": [
    "Correlation analysis"
   ]
  },
  {
   "cell_type": "markdown",
   "id": "34041156-af48-4135-b4da-1a75b923aaff",
   "metadata": {},
   "source": [
    "Initial check for outliers and patterns in the data for percent change"
   ]
  },
  {
   "cell_type": "code",
   "execution_count": 13,
   "id": "5ad3de64-3cb6-4393-b988-39b1c1b47948",
   "metadata": {},
   "outputs": [
    {
     "ename": "NameError",
     "evalue": "name 'df' is not defined",
     "output_type": "error",
     "traceback": [
      "\u001b[1;31m---------------------------------------------------------------------------\u001b[0m",
      "\u001b[1;31mNameError\u001b[0m                                 Traceback (most recent call last)",
      "Cell \u001b[1;32mIn[13], line 2\u001b[0m\n\u001b[0;32m      1\u001b[0m \u001b[38;5;66;03m# Count number of calls per day\u001b[39;00m\n\u001b[1;32m----> 2\u001b[0m calls_per_day \u001b[38;5;241m=\u001b[39m \u001b[43mdf\u001b[49m\u001b[38;5;241m.\u001b[39mgroupby(\u001b[38;5;124m'\u001b[39m\u001b[38;5;124mDate\u001b[39m\u001b[38;5;124m'\u001b[39m)\u001b[38;5;241m.\u001b[39msize()\n\u001b[0;32m      4\u001b[0m \u001b[38;5;66;03m# Calculate percentage change day over day\u001b[39;00m\n\u001b[0;32m      5\u001b[0m calls_pct_change \u001b[38;5;241m=\u001b[39m calls_per_day\u001b[38;5;241m.\u001b[39mpct_change() \u001b[38;5;241m*\u001b[39m \u001b[38;5;241m100\u001b[39m\n",
      "\u001b[1;31mNameError\u001b[0m: name 'df' is not defined"
     ]
    }
   ],
   "source": [
    "\n",
    "# Count number of calls per day\n",
    "calls_per_day = df.groupby('Date').size()\n",
    "\n",
    "# Calculate percentage change day over day\n",
    "calls_pct_change = calls_per_day.pct_change() * 100\n",
    "\n",
    "#Add percent change to the original dataframe\n",
    "df['calls_pct_change'] = calls_pct_change\n",
    "\n",
    "# Reset index for plotting\n",
    "calls_pct_change_df = calls_pct_change.reset_index()\n",
    "\n",
    "# Convert 'Date' column to datetime format\n",
    "calls_pct_change_df['Date'] = pd.to_datetime(calls_pct_change_df['Date'])\n",
    "\n",
    "# Plot the percentage change\n",
    "plt.figure(figsize=(14, 7))\n",
    "plt.scatter(calls_pct_change_df['Date'], calls_pct_change_df[0],marker='o', linestyle='--')\n",
    "plt.title('Daily Percentage Change in Call Times')\n",
    "plt.xlabel('Date')\n",
    "plt.ylabel('Percentage Change (%)')\n",
    "plt.grid(True)\n",
    "plt.show()"
   ]
  },
  {
   "cell_type": "markdown",
   "id": "4b0e7b3e-395b-4a01-9cd4-8cb859739207",
   "metadata": {},
   "source": [
    "Check for normal distribution"
   ]
  },
  {
   "cell_type": "code",
   "execution_count": 14,
   "id": "a9e7eb31-7f41-4561-a18a-b15ebddf63b0",
   "metadata": {},
   "outputs": [],
   "source": [
    "#calls_pct_change_df"
   ]
  },
  {
   "cell_type": "code",
   "execution_count": 15,
   "id": "17ef574e-7c35-4bcd-9042-e91d3a55a1a5",
   "metadata": {},
   "outputs": [
    {
     "ename": "NameError",
     "evalue": "name 'calls_pct_change_df' is not defined",
     "output_type": "error",
     "traceback": [
      "\u001b[1;31m---------------------------------------------------------------------------\u001b[0m",
      "\u001b[1;31mNameError\u001b[0m                                 Traceback (most recent call last)",
      "Cell \u001b[1;32mIn[15], line 2\u001b[0m\n\u001b[0;32m      1\u001b[0m \u001b[38;5;66;03m# Rename the columns\u001b[39;00m\n\u001b[1;32m----> 2\u001b[0m \u001b[43mcalls_pct_change_df\u001b[49m\u001b[38;5;241m.\u001b[39mcolumns \u001b[38;5;241m=\u001b[39m [\u001b[38;5;124m'\u001b[39m\u001b[38;5;124mDate\u001b[39m\u001b[38;5;124m'\u001b[39m, \u001b[38;5;124m'\u001b[39m\u001b[38;5;124mcalls_pct_change\u001b[39m\u001b[38;5;124m'\u001b[39m]\n\u001b[0;32m      3\u001b[0m calls_pct_change_df[\u001b[38;5;124m'\u001b[39m\u001b[38;5;124mYear\u001b[39m\u001b[38;5;124m'\u001b[39m] \u001b[38;5;241m=\u001b[39m pd\u001b[38;5;241m.\u001b[39mto_datetime(calls_pct_change_df[\u001b[38;5;124m'\u001b[39m\u001b[38;5;124mDate\u001b[39m\u001b[38;5;124m'\u001b[39m])\u001b[38;5;241m.\u001b[39mdt\u001b[38;5;241m.\u001b[39myear\n\u001b[0;32m      5\u001b[0m \u001b[38;5;66;03m# Filter out February 29th records (Leap Year)\u001b[39;00m\n",
      "\u001b[1;31mNameError\u001b[0m: name 'calls_pct_change_df' is not defined"
     ]
    }
   ],
   "source": [
    "# Rename the columns\n",
    "calls_pct_change_df.columns = ['Date', 'calls_pct_change']\n",
    "calls_pct_change_df['Year'] = pd.to_datetime(calls_pct_change_df['Date']).dt.year\n",
    "\n",
    "# Filter out February 29th records (Leap Year)\n",
    "calls_pct_change_df_2 = calls_pct_change_df[~((calls_pct_change_df['Date'].dt.month == 2) & (calls_pct_change_df['Date'].dt.day == 29))]\n",
    "\n",
    "years = calls_pct_change_df['Year'].unique()\n",
    "years = [year for year in years if year not in [2023, 2022]]\n",
    "\n",
    "\n",
    "# Create subplots for histogram and Q-Q plot\n",
    "fig, axes = plt.subplots(len(years), 2, figsize=(15, len(years)*5))\n",
    "fig.subplots_adjust(hspace=0.5, wspace=0.5)\n",
    "\n",
    "# Plot histogram and Q-Q plot for each year\n",
    "for i, year in enumerate(years):\n",
    "    data = calls_pct_change_df_2[calls_pct_change_df_2['Year'] == year]['calls_pct_change'].fillna(0).values\n",
    "    \n",
    "    # Histogram\n",
    "    sns.histplot(data, bins=30, kde=True, ax=axes[i, 0])\n",
    "    axes[i, 0].set_title(f'Histogram of {year}')\n",
    "    #axes[i, 0].set_xlabel(\"Percent Change by Day\")\n",
    "    \n",
    "    \n",
    "    # Q-Q plot\n",
    "    probplot(data, dist=\"norm\", plot=axes[i, 1])\n",
    "    axes[i, 1].set_title(f'Q-Q Plot of {year}')\n",
    "    \n",
    "    # Shapiro-Wilk test\n",
    "    stat, p = shapiro(data)\n",
    "    axes[i, 1].text(0.05, 0.95, f'Shapiro-Wilk Test p-value: {p:.4f}', transform=axes[i, 1].transAxes, \n",
    "                    verticalalignment='top', bbox=dict(facecolor='white', alpha=0.7))\n",
    "\n",
    "plt.tight_layout()\n",
    "plt.show()"
   ]
  },
  {
   "cell_type": "markdown",
   "id": "42b33892-a22b-4798-bd7a-296e7ca44fb9",
   "metadata": {},
   "source": [
    "Subplots, correlation, and bootstraping with CI"
   ]
  },
  {
   "cell_type": "code",
   "execution_count": 16,
   "id": "73982167-6818-4a24-8ac3-b4a9ef74befd",
   "metadata": {},
   "outputs": [
    {
     "ename": "NameError",
     "evalue": "name 'years' is not defined",
     "output_type": "error",
     "traceback": [
      "\u001b[1;31m---------------------------------------------------------------------------\u001b[0m",
      "\u001b[1;31mNameError\u001b[0m                                 Traceback (most recent call last)",
      "Cell \u001b[1;32mIn[16], line 16\u001b[0m\n\u001b[0;32m     12\u001b[0m     \u001b[38;5;28;01mreturn\u001b[39;00m ci_lower, ci_upper\n\u001b[0;32m     15\u001b[0m \u001b[38;5;66;03m# Plot scatterplots for each pair of years and calculate correlation\u001b[39;00m\n\u001b[1;32m---> 16\u001b[0m correlations \u001b[38;5;241m=\u001b[39m pd\u001b[38;5;241m.\u001b[39mDataFrame(index\u001b[38;5;241m=\u001b[39m\u001b[43myears\u001b[49m, columns\u001b[38;5;241m=\u001b[39myears)\n\u001b[0;32m     17\u001b[0m confidence_intervals \u001b[38;5;241m=\u001b[39m pd\u001b[38;5;241m.\u001b[39mDataFrame(index\u001b[38;5;241m=\u001b[39myears, columns\u001b[38;5;241m=\u001b[39myears)  \u001b[38;5;66;03m# To store the confidence intervals\u001b[39;00m\n\u001b[0;32m     19\u001b[0m \u001b[38;5;66;03m# Number of years\u001b[39;00m\n",
      "\u001b[1;31mNameError\u001b[0m: name 'years' is not defined"
     ]
    }
   ],
   "source": [
    "# Function to calculate bootstrap confidence interval for Spearman correlation\n",
    "def bootstrap_confidence_interval(data1, data2, n_bootstraps=1000, alpha=0.05):\n",
    "    bootstrapped_corrs = []\n",
    "    n = len(data1)\n",
    "    for _ in range(n_bootstraps):\n",
    "        sample1, sample2 = resample(data1, data2)\n",
    "        corr, _ = spearmanr(sample1, sample2)\n",
    "        bootstrapped_corrs.append(corr)\n",
    "    sorted_corrs = np.sort(bootstrapped_corrs)\n",
    "    ci_lower = sorted_corrs[int((alpha/2) * n_bootstraps)]\n",
    "    ci_upper = sorted_corrs[int((1 - alpha/2) * n_bootstraps)]\n",
    "    return ci_lower, ci_upper\n",
    "\n",
    "\n",
    "# Plot scatterplots for each pair of years and calculate correlation\n",
    "correlations = pd.DataFrame(index=years, columns=years)\n",
    "confidence_intervals = pd.DataFrame(index=years, columns=years)  # To store the confidence intervals\n",
    "\n",
    "# Number of years\n",
    "num_years = len(years)\n",
    "\n",
    "\n",
    "# Create subplots\n",
    "fig, axes = plt.subplots(num_years, num_years, figsize=(15, 15))\n",
    "fig.subplots_adjust(hspace=0.5, wspace=0.5)\n",
    "\n",
    "# Plot scatterplots for each pair of years\n",
    "for i, year_i in enumerate(years):\n",
    "    for j, year_j in enumerate(years):\n",
    "        if i != j:  # No need to plot a year against itself\n",
    "            x_data = calls_pct_change_df_2[calls_pct_change_df_2['Year'] == year_i]['calls_pct_change'].fillna(0).values #Starting dates have no percent change\n",
    "            y_data = calls_pct_change_df_2[calls_pct_change_df_2['Year'] == year_j]['calls_pct_change'].fillna(0).values\n",
    "            \n",
    "            # Calculate correlation coefficient\n",
    "            correlation, _ = spearmanr(x_data, y_data)\n",
    "            print(_)\n",
    "            ci_lower, ci_upper = bootstrap_confidence_interval(x_data, y_data)\n",
    "            correlations.at[year_i, year_j] = correlation\n",
    "            confidence_intervals.at[year_i, year_j] = f'[{ci_lower:.2f}, {ci_upper:.2f}]'\n",
    "            # Access the color based on the year index (i or j)\n",
    "            color_index = i % len(colors)  # Wrap around if more years than colors\n",
    "\n",
    "            axes[i, j].scatter(x_data, y_data, alpha=0.5)\n",
    "            axes[i, j].set_xlabel(f'{year_i} (% Change in Call )')\n",
    "            axes[i, j].set_ylabel(f'{year_j} (% Change in Call )')\n",
    "            axes[i, j].set_title(f'{year_i} vs {year_j} \\nCorrelation: {correlation:.2f}\\nCI: [{ci_lower:.2f}, {ci_upper:.2f}]')\n",
    "\n",
    "# Remove diagonal subplots\n",
    "for i in range(num_years):\n",
    "    for j in range(num_years):\n",
    "        if i == j:\n",
    "            fig.delaxes(axes[i, j])\n",
    "plt.tight_layout()\n",
    "plt.show()\n",
    "\n",
    "# Display the correlation matrix\n",
    "print(\"Correlation Matrix:\")\n",
    "print(correlations)\n",
    "\n",
    "# Display the confidence intervals matrix\n",
    "print(\"\\nConfidence Intervals Matrix:\")\n",
    "print(confidence_intervals)"
   ]
  },
  {
   "cell_type": "code",
   "execution_count": null,
   "id": "cc15b921-bfe5-4a62-9989-d247aad7f0f6",
   "metadata": {},
   "outputs": [],
   "source": []
  }
 ],
 "metadata": {
  "kernelspec": {
   "display_name": "Python 3 (ipykernel)",
   "language": "python",
   "name": "python3"
  },
  "language_info": {
   "codemirror_mode": {
    "name": "ipython",
    "version": 3
   },
   "file_extension": ".py",
   "mimetype": "text/x-python",
   "name": "python",
   "nbconvert_exporter": "python",
   "pygments_lexer": "ipython3",
   "version": "3.11.5"
  }
 },
 "nbformat": 4,
 "nbformat_minor": 5
}
